{
 "cells": [
  {
   "cell_type": "code",
   "execution_count": null,
   "id": "fc278616",
   "metadata": {},
   "outputs": [],
   "source": [
    "M = 1000;\n",
    "inCircle = 0;\n",
    "for i in 1:M\n",
    "    x = rand();\n",
    "    y = rand();\n",
    "    \n",
    "end"
   ]
  }
 ],
 "metadata": {
  "kernelspec": {
   "display_name": "Julia 1.9.2",
   "language": "julia",
   "name": "julia-1.9"
  },
  "language_info": {
   "file_extension": ".jl",
   "mimetype": "application/julia",
   "name": "julia",
   "version": "1.9.2"
  }
 },
 "nbformat": 4,
 "nbformat_minor": 5
}

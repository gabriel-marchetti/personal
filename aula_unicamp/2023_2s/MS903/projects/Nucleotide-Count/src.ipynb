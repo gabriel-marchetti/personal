{
 "cells": [
  {
   "cell_type": "code",
   "execution_count": null,
   "metadata": {},
   "outputs": [],
   "source": [
    "function count_nucleotides(strand)\n",
    "    numA = 0\n",
    "    numC = 0\n",
    "    numG = 0\n",
    "    numT = 0\n",
    "    for i = 1:length(strand)\n",
    "        if (strand[i] == 'A')\n",
    "            numA = numA + 1\n",
    "        elseif (strand[i] == 'C')\n",
    "            numC = numC + 1\n",
    "        elseif (strand[i] == 'G')\n",
    "            numG = numG + 1\n",
    "        elseif (strand[i] == 'T')\n",
    "            numT = numT + 1\n",
    "        end\n",
    "    end\n",
    "\n",
    "    return numA, numC, numG, numT\n",
    "end"
   ]
  },
  {
   "cell_type": "code",
   "execution_count": null,
   "metadata": {},
   "outputs": [],
   "source": [
    "count_nucleotides(\"ATCGTACGTATG\")"
   ]
  }
 ],
 "metadata": {
  "kernelspec": {
   "display_name": "Julia 1.9.2",
   "language": "julia",
   "name": "julia-1.9"
  },
  "language_info": {
   "file_extension": ".jl",
   "mimetype": "application/julia",
   "name": "julia",
   "version": "1.9.2"
  },
  "orig_nbformat": 4
 },
 "nbformat": 4,
 "nbformat_minor": 2
}

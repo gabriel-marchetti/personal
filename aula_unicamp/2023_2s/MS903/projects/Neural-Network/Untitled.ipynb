{
 "cells": [
  {
   "cell_type": "code",
   "execution_count": 18,
   "id": "5adf949d",
   "metadata": {},
   "outputs": [],
   "source": [
    "using LinearAlgebra, Plots"
   ]
  },
  {
   "cell_type": "code",
   "execution_count": 19,
   "id": "db5bad15",
   "metadata": {},
   "outputs": [
    {
     "data": {
      "text/plain": [
       "infty_norm (generic function with 1 method)"
      ]
     },
     "execution_count": 19,
     "metadata": {},
     "output_type": "execute_result"
    }
   ],
   "source": [
    "function infty_norm(x)\n",
    "    max = 0;\n",
    "    for i in eachindex(x)\n",
    "        if( max < abs(x[i]) )\n",
    "            max = abs(x[i]);\n",
    "        end\n",
    "    end\n",
    "\n",
    "    return max;\n",
    "end"
   ]
  },
  {
   "cell_type": "code",
   "execution_count": 59,
   "id": "9ea92912",
   "metadata": {},
   "outputs": [
    {
     "data": {
      "text/plain": [
       "gradient_descent (generic function with 1 method)"
      ]
     },
     "execution_count": 59,
     "metadata": {},
     "output_type": "execute_result"
    }
   ],
   "source": [
    "function gradient_descent(a::Float64, s::Float64, ϵ::Float64,\n",
    "    M::Int64  , x::Vector{Float64}, λ::Float64, k1::Int64, \n",
    "    k2::Int64, flag::Bool)\n",
    "    k     = 0; # COUNTER\n",
    "    f, ∇f = loss_function(x, λ, k1, k2);\n",
    "    μ     = infty_norm(∇f);\n",
    "    x_ant = 0;\n",
    "    ∇f_ant= 0;\n",
    "\n",
    "    while( (μ >= ϵ) && (k < M) )\n",
    "        t_k = 1;\n",
    "        if( flag == true && k != 0 )\n",
    "            t_k = norm(x - x_ant, 2) / norm(∇f - ∇f_ant, 2);\n",
    "        end\n",
    "\n",
    "        armijo = a * dot(∇f, ∇f);\n",
    "        while( loss_function(x - t_k * ∇f, λ, k1, k2)[1] > (f - t_k*armijo) )\n",
    "            t_k = s * t_k;\n",
    "        end\n",
    "\n",
    "        x_ant  = x;\n",
    "        ∇f_ant = ∇f;\n",
    "       \n",
    "        x      = x - t_k * ∇f;\n",
    "        f, ∇f  = loss_function(x, λ, k1, k2);\n",
    "        \n",
    "        μ      = infty_norm(∇f);\n",
    "        k      += 1;\n",
    "    end\n",
    "\n",
    "    #println(k);\n",
    "    return x;\n",
    "end"
   ]
  },
  {
   "cell_type": "code",
   "execution_count": 21,
   "id": "732737da",
   "metadata": {},
   "outputs": [],
   "source": [
    "# Primeiro preciso ler os dados do problema:\n",
    "global u₁, u₂, w;\n",
    "u₁ = Float64[];\n",
    "u₂ = Float64[];\n",
    "v  = Float64[];\n",
    "\n",
    "filepath = \"dado_treino\";\n",
    "file     = open(filepath);\n",
    "for line in eachline(file)\n",
    "    row = parse.( Float64, split(line) );\n",
    "    push!( u₁, row[1] );\n",
    "    push!( u₂, row[2] );\n",
    "    push!( w , row[3] );\n",
    "end"
   ]
  },
  {
   "cell_type": "code",
   "execution_count": 22,
   "id": "75218fec",
   "metadata": {},
   "outputs": [
    {
     "data": {
      "text/plain": [
       "ϕ (generic function with 1 method)"
      ]
     },
     "execution_count": 22,
     "metadata": {},
     "output_type": "execute_result"
    }
   ],
   "source": [
    "# Função de Ativação do problema!\n",
    "function ϕ(x::Float64, k::Int64)\n",
    "    if( k == 1 )\n",
    "        f = x;\n",
    "        g = 1;\n",
    "    elseif( k == 2 )\n",
    "        aux = 2 / π;\n",
    "        f = aux * atan(x);\n",
    "        g = a / ( 1 + x * x );\n",
    "    elseif( k == 3 )\n",
    "        f = tanh(x);\n",
    "        g = 1 - f * f;\n",
    "    elseif( k == 4 )\n",
    "        aux = sqrt( 1 + x * x );\n",
    "        f = 0.5 * ( x + aux );\n",
    "        g = f / aux;\n",
    "    end\n",
    "\n",
    "    return f, g\n",
    "end"
   ]
  },
  {
   "cell_type": "code",
   "execution_count": 23,
   "id": "a5f58a9c",
   "metadata": {},
   "outputs": [
    {
     "data": {
      "text/plain": [
       "f (generic function with 1 method)"
      ]
     },
     "execution_count": 23,
     "metadata": {},
     "output_type": "execute_result"
    }
   ],
   "source": [
    "function f(x::Vector{Float64}, u::Vector{Float64}, k1::Int64, k2::Int64)\n",
    "    # k1 : define a função de ativação da primeira camada.\n",
    "    # k2 : define a função de ativação da segunda camada.\n",
    "    func = 0;\n",
    "    grad = zeros(length(x));\n",
    "\n",
    "    b = x[1] * u[1] + x[2] * u[2] + x[5];\n",
    "    c = x[3] * u[1] + x[4] * u[2] + x[6];\n",
    "    ϕ_b, ϕ_b_prime = ϕ(b, k1);\n",
    "    ϕ_c, ϕ_c_prime = ϕ(c, k1);\n",
    "\n",
    "\n",
    "    a = x[7] * ϕ_b + x[8] * ϕ_c + x[9];\n",
    "    ϕ_a, ϕ_a_prime = ϕ(a, k2);\n",
    "\n",
    "    func = ϕ_a;\n",
    "    \n",
    "    grad[9] = 1;\n",
    "    grad[8] = ϕ_c;\n",
    "    grad[7] = ϕ_b;\n",
    "    grad[6] = x[8] * ϕ_c_prime;\n",
    "    grad[5] = x[7] * ϕ_b_prime;\n",
    "    grad[4] = x[8] * ϕ_c_prime * u[2];\n",
    "    grad[3] = x[8] * ϕ_c_prime * u[1];\n",
    "    grad[2] = x[7] * ϕ_b_prime * u[2];\n",
    "    grad[1] = x[7] * ϕ_b_prime * u[1];\n",
    "\n",
    "    grad = ϕ_a_prime * grad;\n",
    "\n",
    "    return func, grad;\n",
    "end"
   ]
  },
  {
   "cell_type": "code",
   "execution_count": 35,
   "id": "d7184067",
   "metadata": {},
   "outputs": [
    {
     "data": {
      "text/plain": [
       "loss_function (generic function with 1 method)"
      ]
     },
     "execution_count": 35,
     "metadata": {},
     "output_type": "execute_result"
    }
   ],
   "source": [
    "function loss_function_teste( x::Vector{Float64}, λ::Float64, k1::Int64, k2::Int64 )\n",
    "    func = 0;\n",
    "    grad = zeros(9);\n",
    "    N = length(u₁);\n",
    "\n",
    "    for i in 1:N\n",
    "        u = [u₁[i]; u₂[i]];\n",
    "        func_aux, grad_aux = f(x, u, k1, k2);\n",
    "        aux = func_aux - w[i];\n",
    "\n",
    "        func = func + func_aux ^ 2;\n",
    "        grad = grad + aux * grad_aux;\n",
    "    end\n",
    "\n",
    "    \n",
    "    func = (1 / (2*N))*func + λ/2 * dot(x, x);\n",
    "    grad = (1/N)*grad + λ*x;\n",
    "    \n",
    "    return func, grad\n",
    "end"
   ]
  },
  {
   "cell_type": "code",
   "execution_count": 36,
   "id": "702f92ae",
   "metadata": {},
   "outputs": [
    {
     "data": {
      "text/plain": [
       "loop_cost (generic function with 1 method)"
      ]
     },
     "execution_count": 36,
     "metadata": {},
     "output_type": "execute_result"
    }
   ],
   "source": [
    "function loop_cost()\n",
    "    M = 2000;\n",
    "    x_best = zeros(9);\n",
    "    best_cost = Inf;\n",
    "    for i = 1:M\n",
    "        x_testing = (2 * rand(9) .- 1) * 10;\n",
    "        cost_value = loss_function(x_testing, 0.0, 4, 1)[1];\n",
    "        if( cost_value < best_cost )\n",
    "            x_best = x_testing;\n",
    "            best_cost = cost_value\n",
    "        end\n",
    "    end\n",
    "    \n",
    "    return x_best;\n",
    "end"
   ]
  },
  {
   "cell_type": "code",
   "execution_count": 37,
   "id": "1edfc2c3",
   "metadata": {},
   "outputs": [
    {
     "data": {
      "text/plain": [
       "9-element Vector{Float64}:\n",
       " -3.711509767711121\n",
       "  9.999354256673396\n",
       " -3.9695293413060706\n",
       "  6.191027355243519\n",
       " -9.843880728932422\n",
       "  8.242094649817739\n",
       "  4.9124409378024225\n",
       " -6.820120356877293\n",
       " -0.04518211700605068"
      ]
     },
     "execution_count": 37,
     "metadata": {},
     "output_type": "execute_result"
    }
   ],
   "source": [
    "x_inicial = loop_cost()"
   ]
  },
  {
   "cell_type": "code",
   "execution_count": 38,
   "id": "f5de77a9",
   "metadata": {},
   "outputs": [
    {
     "data": {
      "text/plain": [
       "(0.0010911693168267206, [-0.031488917412574036, -0.0006988609217102181, 0.04120007714902095, 0.0009187280691659615, -0.0004055100929469392, 0.0005333135739705993, -0.023181109524287515, -0.0225014239251182, -27.83305899621231])"
      ]
     },
     "execution_count": 38,
     "metadata": {},
     "output_type": "execute_result"
    }
   ],
   "source": [
    "loss_function(x_inicial, 0.0, 4, 1)"
   ]
  },
  {
   "cell_type": "code",
   "execution_count": 61,
   "id": "e5ca5f6a",
   "metadata": {},
   "outputs": [
    {
     "name": "stdout",
     "output_type": "stream",
     "text": [
      "λ = 0.0 e iter = 1 Feito\n",
      "λ = 0.0 e iter = 2 Feito\n",
      "λ = 0.0 e iter = 3 Feito\n",
      "λ = 0.0 e iter = 4 Feito\n",
      "λ = 0.0 e iter = 5 Feito\n",
      "λ = 0.0 e iter = 6 Feito\n",
      "λ = 0.0 e iter = 7 Feito\n",
      "λ = 0.0 e iter = 8 Feito\n",
      "λ = 0.0 e iter = 9 Feito\n",
      "λ = 0.0 e iter = 10 Feito\n",
      "O erro total dos testes para λ = 0.0 foi 2.2150249636271067\n",
      "λ = 0.001 e iter = 1 Feito\n",
      "λ = 0.001 e iter = 2 Feito\n",
      "λ = 0.001 e iter = 3 Feito\n",
      "λ = 0.001 e iter = 4 Feito\n",
      "λ = 0.001 e iter = 5 Feito\n",
      "λ = 0.001 e iter = 6 Feito\n",
      "λ = 0.001 e iter = 7 Feito\n",
      "λ = 0.001 e iter = 8 Feito\n",
      "λ = 0.001 e iter = 9 Feito\n",
      "λ = 0.001 e iter = 10 Feito\n",
      "O erro total dos testes para λ = 0.001 foi -451.1529490063688\n",
      "λ = 0.01 e iter = 1 Feito\n",
      "λ = 0.01 e iter = 2 Feito\n",
      "λ = 0.01 e iter = 3 Feito\n",
      "λ = 0.01 e iter = 4 Feito\n",
      "λ = 0.01 e iter = 5 Feito\n",
      "λ = 0.01 e iter = 6 Feito\n",
      "λ = 0.01 e iter = 7 Feito\n",
      "λ = 0.01 e iter = 8 Feito\n",
      "λ = 0.01 e iter = 9 Feito\n",
      "λ = 0.01 e iter = 10 Feito\n",
      "O erro total dos testes para λ = 0.01 foi -2170.6887850346125\n",
      "λ = 0.1 e iter = 1 Feito\n",
      "λ = 0.1 e iter = 2 Feito\n",
      "λ = 0.1 e iter = 3 Feito\n",
      "λ = 0.1 e iter = 4 Feito\n",
      "λ = 0.1 e iter = 5 Feito\n",
      "λ = 0.1 e iter = 6 Feito\n",
      "λ = 0.1 e iter = 7 Feito\n",
      "λ = 0.1 e iter = 8 Feito\n",
      "λ = 0.1 e iter = 9 Feito\n",
      "λ = 0.1 e iter = 10 Feito\n",
      "O erro total dos testes para λ = 0.1 foi -8.281388991935863\n",
      "λ = 1.0 e iter = 1 Feito\n",
      "λ = 1.0 e iter = 2 Feito\n",
      "λ = 1.0 e iter = 3 Feito\n",
      "λ = 1.0 e iter = 4 Feito\n",
      "λ = 1.0 e iter = 5 Feito\n",
      "λ = 1.0 e iter = 6 Feito\n",
      "λ = 1.0 e iter = 7 Feito\n",
      "λ = 1.0 e iter = 8 Feito\n",
      "λ = 1.0 e iter = 9 Feito\n",
      "λ = 1.0 e iter = 10 Feito\n",
      "O erro total dos testes para λ = 1.0 foi 1.0161533493442363\n",
      "λ = 10.0 e iter = 1 Feito\n",
      "λ = 10.0 e iter = 2 Feito\n",
      "λ = 10.0 e iter = 3 Feito\n",
      "λ = 10.0 e iter = 4 Feito\n",
      "λ = 10.0 e iter = 5 Feito\n",
      "λ = 10.0 e iter = 6 Feito\n",
      "λ = 10.0 e iter = 7 Feito\n",
      "λ = 10.0 e iter = 8 Feito\n",
      "λ = 10.0 e iter = 9 Feito\n",
      "λ = 10.0 e iter = 10 Feito\n",
      "O erro total dos testes para λ = 10.0 foi 2095.448213710596\n",
      "λ = 100.0 e iter = 1 Feito\n",
      "λ = 100.0 e iter = 2 Feito\n",
      "λ = 100.0 e iter = 3 Feito\n",
      "λ = 100.0 e iter = 4 Feito\n",
      "λ = 100.0 e iter = 5 Feito\n",
      "λ = 100.0 e iter = 6 Feito\n",
      "λ = 100.0 e iter = 7 Feito\n",
      "λ = 100.0 e iter = 8 Feito\n",
      "λ = 100.0 e iter = 9 Feito\n",
      "λ = 100.0 e iter = 10 Feito\n",
      "O erro total dos testes para λ = 100.0 foi 9262.144033973487\n"
     ]
    }
   ],
   "source": [
    "λ = [0; 0.001; 0.01; 0.1; 1; 10; 100]\n",
    "for λ_i in λ\n",
    "    Error = Inf;\n",
    "    iteracoes = 10;\n",
    "    x_inicial_list = x_inicial = (2 * rand(iteracoes, 9) .- 1) * 10;\n",
    "    x_melhor = zeros(9);\n",
    "    for j in 1:iteracoes\n",
    "        x_inicial = (2 * rand(9) .- 1) * 10;\n",
    "        a = 10e-4;\n",
    "        s = 0.5  ;\n",
    "        ϵ = 1e-6 ;\n",
    "        M = 200 ;\n",
    "        x_final = gradient_descent(a, s, ϵ, M, x_inicial_list[j, :], λ_i, 4, 1, false);\n",
    "        Error_parcial = loss_function(x_inicial, λ_i, 4,1)[1];\n",
    "        if( Error_parcial < Error )\n",
    "             Error = Error_parcial;\n",
    "             x_melhor = x_final;\n",
    "        end\n",
    "        println(\"λ = $λ_i e iter = $j Feito\");\n",
    "    end\n",
    "    Error -= λ_i * dot(x_melhor, x_melhor) / 2;\n",
    "    println(\"O erro total dos testes para λ = $λ_i foi $Error\")\n",
    "end"
   ]
  },
  {
   "cell_type": "code",
   "execution_count": 58,
   "id": "e937b5ba",
   "metadata": {},
   "outputs": [
    {
     "data": {
      "text/plain": [
       "9-element Vector{Float64}:\n",
       "  6.957317333294204\n",
       "  7.450376615349046\n",
       " -9.62906759192252\n",
       " -3.561900043924684\n",
       " -2.037240300100509\n",
       " -3.3897659848299155\n",
       "  5.836426413439055\n",
       " -0.9867272617350986\n",
       " -9.03768690243883"
      ]
     },
     "execution_count": 58,
     "metadata": {},
     "output_type": "execute_result"
    }
   ],
   "source": [
    "x_inicial = (2 * rand(9, 9) .- 1) * 10;\n",
    "x_inicial[1, :]"
   ]
  },
  {
   "cell_type": "code",
   "execution_count": 70,
   "id": "bbbb50c6",
   "metadata": {},
   "outputs": [
    {
     "data": {
      "text/plain": [
       "loop_cost (generic function with 1 method)"
      ]
     },
     "execution_count": 70,
     "metadata": {},
     "output_type": "execute_result"
    }
   ],
   "source": [
    "#Escolhi o λ = 0.01\n",
    "function loop_cost()\n",
    "    M = 2000;\n",
    "    x_best = zeros(9);\n",
    "    best_cost = Inf;\n",
    "    for i = 1:M\n",
    "        x_testing = (2 * rand(9) .- 1);\n",
    "        cost_value = loss_function(x_testing, 0.01, 4, 1)[1];\n",
    "        if( cost_value < best_cost )\n",
    "            x_best = x_testing;\n",
    "            best_cost = cost_value\n",
    "        end\n",
    "    end\n",
    "    \n",
    "    return x_best;\n",
    "end"
   ]
  },
  {
   "cell_type": "code",
   "execution_count": 71,
   "id": "08244669",
   "metadata": {},
   "outputs": [
    {
     "data": {
      "text/plain": [
       "9-element Vector{Float64}:\n",
       " -0.3752113598730076\n",
       "  0.07705302143769499\n",
       " -0.3611621520880983\n",
       " -0.07038133869023766\n",
       " -0.043566143205807206\n",
       "  0.14411073849271183\n",
       " -0.0595661459145882\n",
       " -0.019727772315548897\n",
       " -0.008037221592280375"
      ]
     },
     "execution_count": 71,
     "metadata": {},
     "output_type": "execute_result"
    }
   ],
   "source": [
    "loop_cost()"
   ]
  },
  {
   "cell_type": "code",
   "execution_count": 72,
   "id": "4496d818",
   "metadata": {},
   "outputs": [],
   "source": [
    "a = 10e-4;\n",
    "s = 0.5  ;\n",
    "ϵ = 1e-10 ;\n",
    "M = 1000 ;\n",
    "x_final = gradient_descent(a, s, ϵ, M, x_inicial, 0.01, 4, 1, false);"
   ]
  },
  {
   "cell_type": "code",
   "execution_count": 73,
   "id": "4827e911",
   "metadata": {},
   "outputs": [
    {
     "data": {
      "text/plain": [
       "9-element Vector{Float64}:\n",
       " -1101.3880482807317\n",
       "   -20.268065414900974\n",
       "    -0.10733364987365505\n",
       "     2.9340093878148905\n",
       "   -17.671870188018566\n",
       "     4.36083908358155\n",
       "  -529.6065037953454\n",
       "    -4.549423160516526\n",
       "    27.556040312030454"
      ]
     },
     "execution_count": 73,
     "metadata": {},
     "output_type": "execute_result"
    }
   ],
   "source": [
    "x_final"
   ]
  },
  {
   "cell_type": "code",
   "execution_count": 62,
   "id": "ee90b6bc",
   "metadata": {},
   "outputs": [],
   "source": [
    "# Primeiro preciso ler os dados do problema:\n",
    "global u_1_teste, u_2_teste, w_teste;\n",
    "u_1_teste = Float64[];\n",
    "u_2_teste = Float64[];\n",
    "w_teste  = Float64[];\n",
    "\n",
    "filepath = \"dado_teste\";\n",
    "file     = open(filepath);\n",
    "for line in eachline(file)\n",
    "    row = parse.( Float64, split(line) );\n",
    "    push!( u_1_teste, row[1] );\n",
    "    push!( u_2_teste, row[2] );\n",
    "    push!( w_teste , row[3] );\n",
    "end"
   ]
  },
  {
   "cell_type": "code",
   "execution_count": 68,
   "id": "80728242",
   "metadata": {},
   "outputs": [
    {
     "data": {
      "text/plain": [
       "loss_function_teste (generic function with 1 method)"
      ]
     },
     "execution_count": 68,
     "metadata": {},
     "output_type": "execute_result"
    }
   ],
   "source": [
    "function loss_function_teste( x::Vector{Float64}, λ::Float64, k1::Int64, k2::Int64 )\n",
    "    func = 0;\n",
    "    grad = zeros(9);\n",
    "    N = length(u_1_teste);\n",
    "\n",
    "    for i in 1:N\n",
    "        u = [u_1_teste[i]; u_2_teste[i]];\n",
    "        func_aux, grad_aux = f(x, u, k1, k2);\n",
    "        aux = func_aux - w_teste[i];\n",
    "\n",
    "        func = func + func_aux ^ 2;\n",
    "        grad = grad + aux * grad_aux;\n",
    "    end\n",
    "\n",
    "    \n",
    "    func = (1 / (2*N))*func + λ/2 * dot(x, x);\n",
    "    grad = (1/N)*grad + λ*x;\n",
    "    \n",
    "    return func, grad\n",
    "end"
   ]
  },
  {
   "cell_type": "code",
   "execution_count": 100,
   "id": "147c497b",
   "metadata": {},
   "outputs": [],
   "source": [
    "soma_diffTeste = 0;\n",
    "soma_wTeste = 0;\n",
    "previsao = zeros(300)\n",
    "for i in 1:length(w_teste)\n",
    "    u_teste = [u_1_teste[i]; u_2_teste[i]];\n",
    "    previsao[i] = f(x_final, u_teste, 4, 1)[1] \n",
    "    soma_diffTeste += (f(x_final, u_teste, 4, 1)[1] - w[i])^2\n",
    "    soma_wTeste += w[i] * w[i];\n",
    "end"
   ]
  },
  {
   "cell_type": "code",
   "execution_count": 101,
   "id": "f110186e",
   "metadata": {},
   "outputs": [
    {
     "data": {
      "text/plain": [
       "0.0825236161206454"
      ]
     },
     "execution_count": 101,
     "metadata": {},
     "output_type": "execute_result"
    }
   ],
   "source": [
    "boa = soma_diffTeste / soma_wTeste"
   ]
  },
  {
   "cell_type": "code",
   "execution_count": 97,
   "id": "65ad2410",
   "metadata": {},
   "outputs": [
    {
     "data": {},
     "execution_count": 97,
     "metadata": {},
     "output_type": "execute_result"
    },
    {
     "name": "stderr",
     "output_type": "stream",
     "text": [
      "attempt to save state beyond implementation limit\n",
      "attempt to save state beyond implementation limit\n"
     ]
    }
   ],
   "source": [
    "intervalo = 1:300\n",
    "plt = plot( intervalo, w, color=\"blue\", legend=false )\n",
    "plt = scatter!( intervalo, previsao, color=\"red\", legend=false )"
   ]
  },
  {
   "cell_type": "code",
   "execution_count": null,
   "id": "dc186662",
   "metadata": {},
   "outputs": [],
   "source": []
  }
 ],
 "metadata": {
  "kernelspec": {
   "display_name": "Julia 1.9.2",
   "language": "julia",
   "name": "julia-1.9"
  },
  "language_info": {
   "file_extension": ".jl",
   "mimetype": "application/julia",
   "name": "julia",
   "version": "1.9.2"
  }
 },
 "nbformat": 4,
 "nbformat_minor": 5
}

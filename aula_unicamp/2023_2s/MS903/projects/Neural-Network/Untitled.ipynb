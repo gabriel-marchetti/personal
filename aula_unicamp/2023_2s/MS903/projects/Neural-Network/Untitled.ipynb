{
 "cells": [
  {
   "cell_type": "code",
   "execution_count": 1,
   "id": "db15b3fa",
   "metadata": {},
   "outputs": [],
   "source": [
    "using LinearAlgebra, Plots"
   ]
  },
  {
   "cell_type": "code",
   "execution_count": 2,
   "id": "3a843b16",
   "metadata": {},
   "outputs": [
    {
     "data": {
      "text/plain": [
       "infty_norm (generic function with 1 method)"
      ]
     },
     "execution_count": 2,
     "metadata": {},
     "output_type": "execute_result"
    }
   ],
   "source": [
    "function infty_norm(x)\n",
    "    max = 0;\n",
    "    for i in eachindex(x)\n",
    "        if( max < abs(x[i]) )\n",
    "            max = abs(x[i]);\n",
    "        end\n",
    "    end\n",
    "\n",
    "    return max;\n",
    "end"
   ]
  },
  {
   "cell_type": "code",
   "execution_count": 3,
   "id": "777d9b59",
   "metadata": {},
   "outputs": [
    {
     "data": {
      "text/plain": [
       "gradient_descent (generic function with 1 method)"
      ]
     },
     "execution_count": 3,
     "metadata": {},
     "output_type": "execute_result"
    }
   ],
   "source": [
    "function gradient_descent(a::Float64, s::Float64, ϵ::Float64,\n",
    "    M::Int64  , x::Vector{Float64}, λ::Float64, k1::Int64, \n",
    "    k2::Int64, flag::Bool)\n",
    "    k     = 0; # COUNTER\n",
    "    f, ∇f = loss_function(x, λ, k1, k2);\n",
    "    μ     = norm(∇f, Inf);\n",
    "    x_ant = 0;\n",
    "    ∇f_ant= 0;\n",
    "\n",
    "    while( (μ >= ϵ) && (k < M) )\n",
    "        t_k = 1;\n",
    "        if( flag == true && k != 0 )\n",
    "            t_k = norm(x - x_ant, 2) / norm(∇f - ∇f_ant, 2);\n",
    "        end\n",
    "\n",
    "        armijo = a * dot(∇f, ∇f);\n",
    "        while( loss_function(x - t_k * ∇f, λ, k1, k2)[1] > (f - t_k*armijo) )\n",
    "            t_k = s * t_k;\n",
    "        end\n",
    "\n",
    "        x_ant  = x;\n",
    "        ∇f_ant = ∇f;\n",
    "       \n",
    "        x      = x - t_k * ∇f;\n",
    "        f, ∇f  = loss_function(x, λ, k1, k2);\n",
    "        \n",
    "        μ      = norm(∇f, Inf);\n",
    "        k      += 1;\n",
    "    end\n",
    "\n",
    "    #println(k);\n",
    "    return x;\n",
    "end"
   ]
  },
  {
   "cell_type": "code",
   "execution_count": 13,
   "id": "5107d774",
   "metadata": {},
   "outputs": [],
   "source": [
    "# Primeiro preciso ler os dados do problema:\n",
    "global u₁, u₂, w;\n",
    "u₁ = Float64[];\n",
    "u₂ = Float64[];\n",
    "w  = Float64[];\n",
    "\n",
    "filepath = \"dado_treino\";\n",
    "file     = open(filepath);\n",
    "for line in eachline(file)\n",
    "    row = parse.( Float64, split(line) );\n",
    "    push!( u₁, row[1] );\n",
    "    push!( u₂, row[2] );\n",
    "    push!( w , row[3] );\n",
    "end"
   ]
  },
  {
   "cell_type": "code",
   "execution_count": 14,
   "id": "d99db609",
   "metadata": {},
   "outputs": [
    {
     "data": {
      "text/plain": [
       "ϕ (generic function with 1 method)"
      ]
     },
     "execution_count": 14,
     "metadata": {},
     "output_type": "execute_result"
    }
   ],
   "source": [
    "# Função de Ativação do problema!\n",
    "function ϕ(x::Float64, k::Int64)\n",
    "    if( k == 1 )\n",
    "        f = x;\n",
    "        g = 1;\n",
    "    elseif( k == 2 )\n",
    "        aux = 2 / π;\n",
    "        f = aux * atan(x);\n",
    "        g = a / ( 1 + x * x );\n",
    "    elseif( k == 3 )\n",
    "        f = tanh(x);\n",
    "        g = 1 - f * f;\n",
    "    elseif( k == 4 )\n",
    "        aux = sqrt( 1 + x * x );\n",
    "        f = 0.5 * ( x + aux );\n",
    "        g = f / aux;\n",
    "    end\n",
    "\n",
    "    return f, g\n",
    "end"
   ]
  },
  {
   "cell_type": "code",
   "execution_count": 15,
   "id": "e9c7ba85",
   "metadata": {},
   "outputs": [
    {
     "data": {
      "text/plain": [
       "f (generic function with 1 method)"
      ]
     },
     "execution_count": 15,
     "metadata": {},
     "output_type": "execute_result"
    }
   ],
   "source": [
    "function f(x::Vector{Float64}, u::Vector{Float64}, k1::Int64, k2::Int64)\n",
    "    # k1 : define a função de ativação da primeira camada.\n",
    "    # k2 : define a função de ativação da segunda camada.\n",
    "    func = 0;\n",
    "    grad = zeros(length(x));\n",
    "\n",
    "    b = x[1] * u[1] + x[2] * u[2] + x[5];\n",
    "    c = x[3] * u[1] + x[4] * u[2] + x[6];\n",
    "    ϕ_b, ϕ_b_prime = ϕ(b, k1);\n",
    "    ϕ_c, ϕ_c_prime = ϕ(c, k1);\n",
    "\n",
    "\n",
    "    a = x[7] * ϕ_b + x[8] * ϕ_c + x[9];\n",
    "    ϕ_a, ϕ_a_prime = ϕ(a, k2);\n",
    "\n",
    "    func = ϕ_a;\n",
    "    \n",
    "    grad[9] = 1;\n",
    "    grad[8] = ϕ_c;\n",
    "    grad[7] = ϕ_b;\n",
    "    grad[6] = x[8] * ϕ_c_prime;\n",
    "    grad[5] = x[7] * ϕ_b_prime;\n",
    "    grad[4] = x[8] * ϕ_c_prime * u[2];\n",
    "    grad[3] = x[8] * ϕ_c_prime * u[1];\n",
    "    grad[2] = x[7] * ϕ_b_prime * u[2];\n",
    "    grad[1] = x[7] * ϕ_b_prime * u[1];\n",
    "\n",
    "    grad = ϕ_a_prime * grad;\n",
    "\n",
    "    return func, grad;\n",
    "end"
   ]
  },
  {
   "cell_type": "code",
   "execution_count": 16,
   "id": "efda80a0",
   "metadata": {},
   "outputs": [
    {
     "data": {
      "text/plain": [
       "loss_function (generic function with 1 method)"
      ]
     },
     "execution_count": 16,
     "metadata": {},
     "output_type": "execute_result"
    }
   ],
   "source": [
    "function loss_function( x::Vector{Float64}, λ::Float64, k1::Int64, k2::Int64 )\n",
    "    func = 0;\n",
    "    grad = zeros(9);\n",
    "    N = length(u₁);\n",
    "\n",
    "    for i in 1:N\n",
    "        u = [u₁[i]; u₂[i]];\n",
    "        func_aux, grad_aux = f(x, u, k1, k2);\n",
    "        aux = func_aux - w[i];\n",
    "\n",
    "        func = func + func_aux ^ 2;\n",
    "        grad = grad + aux * grad_aux;\n",
    "    end\n",
    "\n",
    "    \n",
    "    func = (1 / (2*N))*func + λ/2 * dot(x, x);\n",
    "    grad = (1/N)*grad + λ*x;\n",
    "    \n",
    "    return func, grad\n",
    "end"
   ]
  },
  {
   "cell_type": "code",
   "execution_count": 17,
   "id": "32d7791e",
   "metadata": {},
   "outputs": [
    {
     "data": {
      "text/plain": [
       "loop_cost (generic function with 1 method)"
      ]
     },
     "execution_count": 17,
     "metadata": {},
     "output_type": "execute_result"
    }
   ],
   "source": [
    "function loop_cost()\n",
    "    M = 2000;\n",
    "    x_best = zeros(9);\n",
    "    best_cost = Inf;\n",
    "    for i = 1:M\n",
    "        x_testing = (2 * rand(9) .- 1) * 10;\n",
    "        cost_value = loss_function(x_testing, 0.0, 4, 1)[1];\n",
    "        if( cost_value < best_cost )\n",
    "            x_best = x_testing;\n",
    "            best_cost = cost_value\n",
    "        end\n",
    "    end\n",
    "    \n",
    "    return x_best;\n",
    "end"
   ]
  },
  {
   "cell_type": "code",
   "execution_count": 18,
   "id": "6ba9b876",
   "metadata": {},
   "outputs": [
    {
     "data": {
      "text/plain": [
       "9-element Vector{Float64}:\n",
       " -5.656207606734038\n",
       "  9.060896440276787\n",
       " -2.550243314990157\n",
       "  0.4361033405519654\n",
       "  9.513025082240441\n",
       " -4.505546960850344\n",
       "  1.9218412626114434\n",
       " -3.429008201348709\n",
       "  0.012313068464593346"
      ]
     },
     "execution_count": 18,
     "metadata": {},
     "output_type": "execute_result"
    }
   ],
   "source": [
    "x_inicial = loop_cost()"
   ]
  },
  {
   "cell_type": "code",
   "execution_count": 19,
   "id": "4a924e8d",
   "metadata": {},
   "outputs": [
    {
     "data": {
      "text/plain": [
       "(4.302187199352921e-5, [-0.005655289294445748, -0.00012601128516854807, 0.042489137499223506, 0.0009365538737288424, -7.31495803449667e-5, 0.000543925759823697, -0.01568804729698027, -0.03219628107689117, -27.777099426262534])"
      ]
     },
     "execution_count": 19,
     "metadata": {},
     "output_type": "execute_result"
    }
   ],
   "source": [
    "loss_function(x_inicial, 0.0, 4, 1)"
   ]
  },
  {
   "cell_type": "code",
   "execution_count": 20,
   "id": "12a5fec1",
   "metadata": {},
   "outputs": [
    {
     "name": "stdout",
     "output_type": "stream",
     "text": [
      "λ = 0.0 e iter = 1 Feito\n",
      "λ = 0.0 e iter = 2 Feito\n",
      "λ = 0.0 e iter = 3 Feito\n",
      "λ = 0.0 e iter = 4 Feito\n",
      "λ = 0.0 e iter = 5 Feito\n",
      "λ = 0.0 e iter = 6 Feito\n",
      "λ = 0.0 e iter = 7 Feito\n",
      "λ = 0.0 e iter = 8 Feito\n",
      "λ = 0.0 e iter = 9 Feito\n",
      "λ = 0.0 e iter = 10 Feito\n",
      "O erro total dos testes para λ = 0.0 foi 36.655421407154684\n",
      "λ = 0.001 e iter = 1 Feito\n",
      "λ = 0.001 e iter = 2 Feito\n",
      "λ = 0.001 e iter = 3 Feito\n",
      "λ = 0.001 e iter = 4 Feito\n",
      "λ = 0.001 e iter = 5 Feito\n",
      "λ = 0.001 e iter = 6 Feito\n",
      "λ = 0.001 e iter = 7 Feito\n",
      "λ = 0.001 e iter = 8 Feito\n",
      "λ = 0.001 e iter = 9 Feito\n",
      "λ = 0.001 e iter = 10 Feito\n",
      "O erro total dos testes para λ = 0.001 foi 6.184698069360779\n",
      "λ = 0.01 e iter = 1 Feito\n",
      "λ = 0.01 e iter = 2 Feito\n",
      "λ = 0.01 e iter = 3 Feito\n",
      "λ = 0.01 e iter = 4 Feito\n",
      "λ = 0.01 e iter = 5 Feito\n",
      "λ = 0.01 e iter = 6 Feito\n",
      "λ = 0.01 e iter = 7 Feito\n",
      "λ = 0.01 e iter = 8 Feito\n",
      "λ = 0.01 e iter = 9 Feito\n",
      "λ = 0.01 e iter = 10 Feito\n",
      "O erro total dos testes para λ = 0.01 foi 43.85429355298575\n",
      "λ = 0.1 e iter = 1 Feito\n",
      "λ = 0.1 e iter = 2 Feito\n",
      "λ = 0.1 e iter = 3 Feito\n",
      "λ = 0.1 e iter = 4 Feito\n",
      "λ = 0.1 e iter = 5 Feito\n",
      "λ = 0.1 e iter = 6 Feito\n",
      "λ = 0.1 e iter = 7 Feito\n",
      "λ = 0.1 e iter = 8 Feito\n",
      "λ = 0.1 e iter = 9 Feito\n",
      "λ = 0.1 e iter = 10 Feito\n",
      "O erro total dos testes para λ = 0.1 foi 17.224935211831937\n",
      "λ = 1.0 e iter = 1 Feito\n",
      "λ = 1.0 e iter = 2 Feito\n",
      "λ = 1.0 e iter = 3 Feito\n",
      "λ = 1.0 e iter = 4 Feito\n",
      "λ = 1.0 e iter = 5 Feito\n",
      "λ = 1.0 e iter = 6 Feito\n",
      "λ = 1.0 e iter = 7 Feito\n",
      "λ = 1.0 e iter = 8 Feito\n",
      "λ = 1.0 e iter = 9 Feito\n",
      "λ = 1.0 e iter = 10 Feito\n",
      "O erro total dos testes para λ = 1.0 foi 79.65433642810625\n",
      "λ = 10.0 e iter = 1 Feito\n",
      "λ = 10.0 e iter = 2 Feito\n",
      "λ = 10.0 e iter = 3 Feito\n",
      "λ = 10.0 e iter = 4 Feito\n",
      "λ = 10.0 e iter = 5 Feito\n",
      "λ = 10.0 e iter = 6 Feito\n",
      "λ = 10.0 e iter = 7 Feito\n",
      "λ = 10.0 e iter = 8 Feito\n",
      "λ = 10.0 e iter = 9 Feito\n",
      "λ = 10.0 e iter = 10 Feito\n",
      "O erro total dos testes para λ = 10.0 foi 463.57016222820477\n",
      "λ = 100.0 e iter = 1 Feito\n",
      "λ = 100.0 e iter = 2 Feito\n",
      "λ = 100.0 e iter = 3 Feito\n",
      "λ = 100.0 e iter = 4 Feito\n",
      "λ = 100.0 e iter = 5 Feito\n",
      "λ = 100.0 e iter = 6 Feito\n",
      "λ = 100.0 e iter = 7 Feito\n",
      "λ = 100.0 e iter = 8 Feito\n",
      "λ = 100.0 e iter = 9 Feito\n",
      "λ = 100.0 e iter = 10 Feito\n",
      "O erro total dos testes para λ = 100.0 foi 6537.802145194706\n"
     ]
    }
   ],
   "source": [
    "λ = [0; 0.001; 0.01; 0.1; 1; 10; 100]\n",
    "for λ_i in λ\n",
    "    Error = Inf;\n",
    "    iteracoes = 10;\n",
    "    x_inicial_list = x_inicial = (2 * rand(iteracoes, 9) .- 1) * 10;\n",
    "    x_melhor = zeros(9);\n",
    "    for j in 1:iteracoes\n",
    "        x_inicial = (2 * rand(9) .- 1) * 10;\n",
    "        a = 10e-4;\n",
    "        s = 0.5  ;\n",
    "        ϵ = 1e-6 ;\n",
    "        M = 200 ;\n",
    "        x_final = gradient_descent(a, s, ϵ, M, x_inicial_list[j, :], λ_i, 4, 1, false);\n",
    "        Error_parcial = loss_function(x_inicial, λ_i, 4,1)[1];\n",
    "        if( Error_parcial < Error )\n",
    "             Error = Error_parcial;\n",
    "             x_melhor = x_final;\n",
    "        end\n",
    "        println(\"λ = $λ_i e iter = $j Feito\");\n",
    "    end\n",
    "    println(\"O erro total dos testes para λ = $λ_i foi $Error\")\n",
    "end"
   ]
  },
  {
   "cell_type": "code",
   "execution_count": 21,
   "id": "77791688",
   "metadata": {},
   "outputs": [
    {
     "data": {
      "text/plain": [
       "9-element Vector{Float64}:\n",
       "  2.5007762250894405\n",
       " -8.825052996453987\n",
       "  9.708941856680545\n",
       "  7.1492512897860605\n",
       " -5.049544470517651\n",
       "  7.423026288764298\n",
       "  3.269604928720833\n",
       " -3.520813861466394\n",
       "  9.705542476396385"
      ]
     },
     "execution_count": 21,
     "metadata": {},
     "output_type": "execute_result"
    }
   ],
   "source": [
    "x_inicial = (2 * rand(9, 9) .- 1) * 10;\n",
    "x_inicial[1, :]"
   ]
  },
  {
   "cell_type": "code",
   "execution_count": 22,
   "id": "70aae079",
   "metadata": {},
   "outputs": [
    {
     "data": {
      "text/plain": [
       "loop_cost (generic function with 1 method)"
      ]
     },
     "execution_count": 22,
     "metadata": {},
     "output_type": "execute_result"
    }
   ],
   "source": [
    "#Escolhi o λ = 0.001\n",
    "function loop_cost()\n",
    "    M = 2000;\n",
    "    x_best = zeros(9);\n",
    "    best_cost = Inf;\n",
    "    for i = 1:M\n",
    "        x_testing = (2 * rand(9) .- 1);\n",
    "        cost_value = loss_function(x_testing, 0.001, 4, 1)[1];\n",
    "        if( cost_value < best_cost )\n",
    "            x_best = x_testing;\n",
    "            best_cost = cost_value\n",
    "        end\n",
    "    end\n",
    "    \n",
    "    return x_best;\n",
    "end"
   ]
  },
  {
   "cell_type": "code",
   "execution_count": 26,
   "id": "a378fc2f",
   "metadata": {},
   "outputs": [
    {
     "data": {
      "text/plain": [
       "9-element Vector{Float64}:\n",
       " -0.7573190799867995\n",
       "  0.2989379700917085\n",
       " -0.21023118696713472\n",
       " -0.6578006856025655\n",
       " -0.05407835057654342\n",
       "  0.040912187939805555\n",
       " -0.5206239934863017\n",
       "  0.10313957291336306\n",
       " -0.006717457615087241"
      ]
     },
     "execution_count": 26,
     "metadata": {},
     "output_type": "execute_result"
    }
   ],
   "source": [
    "x_init = loop_cost()"
   ]
  },
  {
   "cell_type": "code",
   "execution_count": 27,
   "id": "dd0a905e",
   "metadata": {},
   "outputs": [],
   "source": [
    "a = 10e-4;\n",
    "s = 0.5  ;\n",
    "ϵ = 1e-10 ;\n",
    "M = 1000 ;\n",
    "x_final = gradient_descent(a, s, ϵ, M, x_init, 0.001, 4, 1, false);"
   ]
  },
  {
   "cell_type": "code",
   "execution_count": 28,
   "id": "076c6df4",
   "metadata": {},
   "outputs": [
    {
     "data": {
      "text/plain": [
       "9-element Vector{Float64}:\n",
       " -0.7573190799867995\n",
       "  0.2989379700917085\n",
       " -0.21023118696713472\n",
       " -0.6578006856025655\n",
       " -0.05407835057654342\n",
       "  0.040912187939805555\n",
       " -0.5206239934863017\n",
       "  0.10313957291336306\n",
       " -0.006717457615085395"
      ]
     },
     "execution_count": 28,
     "metadata": {},
     "output_type": "execute_result"
    }
   ],
   "source": [
    "x_final"
   ]
  },
  {
   "cell_type": "code",
   "execution_count": 37,
   "id": "40387d2b-81af-4242-ad02-27eeea5e9bd5",
   "metadata": {},
   "outputs": [
    {
     "data": {
      "text/plain": [
       "0.000741018428845503"
      ]
     },
     "execution_count": 37,
     "metadata": {},
     "output_type": "execute_result"
    }
   ],
   "source": [
    "# 0.000741018428845503\n",
    "loss_function(x_final, 0.001, 4, 1)[1]"
   ]
  },
  {
   "cell_type": "code",
   "execution_count": 38,
   "id": "5d4a1c6b",
   "metadata": {},
   "outputs": [],
   "source": [
    "# Primeiro preciso ler os dados do problema:\n",
    "global u_1_teste, u_2_teste, w_teste;\n",
    "u_1_teste = Float64[];\n",
    "u_2_teste = Float64[];\n",
    "w_teste  = Float64[];\n",
    "\n",
    "filepath = \"dado_teste\";\n",
    "file     = open(filepath);\n",
    "for line in eachline(file)\n",
    "    row = parse.( Float64, split(line) );\n",
    "    push!( u_1_teste, row[1] );\n",
    "    push!( u_2_teste, row[2] );\n",
    "    push!( w_teste , row[3] );\n",
    "end"
   ]
  },
  {
   "cell_type": "code",
   "execution_count": 30,
   "id": "1edf509f",
   "metadata": {},
   "outputs": [
    {
     "data": {
      "text/plain": [
       "loss_function_teste (generic function with 1 method)"
      ]
     },
     "execution_count": 30,
     "metadata": {},
     "output_type": "execute_result"
    }
   ],
   "source": [
    "function loss_function_teste( x::Vector{Float64}, λ::Float64, k1::Int64, k2::Int64 )\n",
    "    func = 0;\n",
    "    grad = zeros(9);\n",
    "    N = length(u_1_teste);\n",
    "\n",
    "    for i in 1:N\n",
    "        u = [u_1_teste[i]; u_2_teste[i]];\n",
    "        func_aux, grad_aux = f(x, u, k1, k2);\n",
    "        aux = func_aux - w_teste[i];\n",
    "\n",
    "        func = func + func_aux ^ 2;\n",
    "        grad = grad + aux * grad_aux;\n",
    "    end\n",
    "\n",
    "    \n",
    "    func = (1 / (2*N))*func + λ/2 * dot(x, x);\n",
    "    grad = (1/N)*grad + λ*x;\n",
    "    \n",
    "    return func, grad\n",
    "end"
   ]
  },
  {
   "cell_type": "code",
   "execution_count": 31,
   "id": "3b012688",
   "metadata": {},
   "outputs": [],
   "source": [
    "soma_diffTeste = 0;\n",
    "soma_wTeste = 0;\n",
    "previsao = zeros(300)\n",
    "for i in 1:length(w_teste)\n",
    "    u_teste = [u_1_teste[i]; u_2_teste[i]];\n",
    "    previsao[i] = f(x_final, u_teste, 4, 1)[1] \n",
    "    soma_diffTeste += (f(x_final, u_teste, 4, 1)[1] - w[i])^2\n",
    "    soma_wTeste += w[i] * w[i];\n",
    "end"
   ]
  },
  {
   "cell_type": "code",
   "execution_count": 32,
   "id": "dc670570",
   "metadata": {},
   "outputs": [
    {
     "name": "stdout",
     "output_type": "stream",
     "text": [
      "422.40309251544545\n"
     ]
    },
    {
     "data": {
      "text/plain": [
       "1.0004883764674926"
      ]
     },
     "execution_count": 32,
     "metadata": {},
     "output_type": "execute_result"
    }
   ],
   "source": [
    "println(soma_diffTeste/(2*300))\n",
    "boa = soma_diffTeste / soma_wTeste"
   ]
  },
  {
   "cell_type": "code",
   "execution_count": 40,
   "id": "6b472e26",
   "metadata": {},
   "outputs": [
    {
     "data": {
      "text/plain": [
       "0.000741018428845503"
      ]
     },
     "execution_count": 40,
     "metadata": {},
     "output_type": "execute_result"
    }
   ],
   "source": [
    "loss_function_teste(x_final, 0.001, 4, 1)[1]"
   ]
  },
  {
   "cell_type": "code",
   "execution_count": null,
   "id": "e7f1f130-4182-4709-b3d7-6bc35dd6ac35",
   "metadata": {},
   "outputs": [],
   "source": []
  }
 ],
 "metadata": {
  "kernelspec": {
   "display_name": "Julia 1.9.3",
   "language": "julia",
   "name": "julia-1.9"
  },
  "language_info": {
   "file_extension": ".jl",
   "mimetype": "application/julia",
   "name": "julia",
   "version": "1.9.3"
  }
 },
 "nbformat": 4,
 "nbformat_minor": 5
}

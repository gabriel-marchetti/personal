{
 "cells": [
  {
   "cell_type": "code",
   "execution_count": null,
   "id": "4892d2fc",
   "metadata": {},
   "outputs": [],
   "source": [
    "global u₁, u₂, w;\n",
    "u₁ = Float64[];\n",
    "u₂ = Float64[];\n",
    "w  = Float64[];\n",
    "\n",
    "\n",
    "filepath = \"curva_treina\";\n",
    "file     = open(filepath);\n",
    "for line in eachline(file)\n",
    "    row = parse.( Float64, line );\n",
    "    \n",
    "end"
   ]
  }
 ],
 "metadata": {
  "kernelspec": {
   "display_name": "Julia 1.9.2",
   "language": "julia",
   "name": "julia-1.9"
  },
  "language_info": {
   "file_extension": ".jl",
   "mimetype": "application/julia",
   "name": "julia",
   "version": "1.9.2"
  }
 },
 "nbformat": 4,
 "nbformat_minor": 5
}

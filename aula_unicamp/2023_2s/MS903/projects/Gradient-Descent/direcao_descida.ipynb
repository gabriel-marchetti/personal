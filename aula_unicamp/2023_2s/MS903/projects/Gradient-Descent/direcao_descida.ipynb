{
 "cells": [
  {
   "cell_type": "code",
   "execution_count": null,
   "metadata": {},
   "outputs": [],
   "source": [
    "using Test\n",
    "using LinearAlgebra\n",
    "using Plots"
   ]
  },
  {
   "cell_type": "code",
   "execution_count": null,
   "metadata": {},
   "outputs": [],
   "source": [
    "# Defining function to minimize\n",
    "function f(x)\n",
    "    sum = 0;\n",
    "    for i = 1:length(x)\n",
    "        sum += x[i]\n",
    "    end\n",
    "\n",
    "    return sum;\n",
    "end"
   ]
  },
  {
   "cell_type": "code",
   "execution_count": null,
   "metadata": {},
   "outputs": [],
   "source": [
    "@test f([1,2,3,4,5,6]) == 21"
   ]
  },
  {
   "cell_type": "code",
   "execution_count": null,
   "metadata": {},
   "outputs": [],
   "source": [
    "# Defining gradient of f.\n",
    "function grad_f(x)\n",
    "    grad = ones(length(x))\n",
    "    return grad  \n",
    "end"
   ]
  },
  {
   "cell_type": "code",
   "execution_count": null,
   "metadata": {},
   "outputs": [],
   "source": [
    "@test grad_f([1,1,1,1,1]) == [1, 1, 1, 1, 1]"
   ]
  },
  {
   "cell_type": "code",
   "execution_count": null,
   "metadata": {},
   "outputs": [],
   "source": [
    "# Making the infinity norm of a matrix.\n",
    "function infty_norm(x)\n",
    "    max = 0;\n",
    "    for i = 1:length(x)\n",
    "        if( max < abs(x[i]) )\n",
    "            max = abs(x[i]);\n",
    "        end\n",
    "    end\n",
    "\n",
    "    return max;\n",
    "end"
   ]
  },
  {
   "cell_type": "code",
   "execution_count": null,
   "metadata": {},
   "outputs": [],
   "source": [
    "# infty_norm([1000, 1, 2, 3, 4, 5, -1002]) == 1000\n",
    "@test infty_norm([1000, 1, 2, 3, 4, 5, -1002]) == 1002"
   ]
  },
  {
   "cell_type": "code",
   "execution_count": null,
   "metadata": {},
   "outputs": [],
   "source": [
    "# Choosing the descent directions.\n",
    "function descent_generate(grad)\n",
    "    d = randn(Float64, length(grad));\n",
    "    while( transpose(grad) ⋅ d  >= 0 )\n",
    "        d = randn(Float64, length(grad));\n",
    "    end\n",
    "\n",
    "    return d;\n",
    "end"
   ]
  },
  {
   "cell_type": "code",
   "execution_count": null,
   "metadata": {},
   "outputs": [],
   "source": [
    "grad = transpose(grad_f([1,2,3,4,5]))\n",
    "d = descent_generate(grad)\n",
    "@test grad ⋅ d < 0"
   ]
  },
  {
   "cell_type": "code",
   "execution_count": null,
   "metadata": {},
   "outputs": [],
   "source": [
    "# Making the function of linear search for finding the step\n",
    "function stepper(x, d)\n",
    "    λ = 1;\n",
    "    while( f(x+λ*d) >= f(x) )\n",
    "        λ /= 2;\n",
    "    end \n",
    "\n",
    "    return λ\n",
    "end"
   ]
  },
  {
   "cell_type": "code",
   "execution_count": null,
   "metadata": {},
   "outputs": [],
   "source": [
    "# Descent Algoritm\n",
    "function descent_algo(x)\n",
    "    ϵ           = 1e-6;\n",
    "    x_old       = copy(x);\n",
    "    max_iter    = 1000;\n",
    "    for i = 1:max_iter\n",
    "        d       = descent_generate(grad_f(x));\n",
    "        λ       = stepper(x, d);\n",
    "        x       = x + λ*d;\n",
    "        if( infty_norm(x-x_old) < ϵ )\n",
    "            break;\n",
    "        end\n",
    "        x_old = copy(x);\n",
    "    end\n",
    "\n",
    "    return x;\n",
    "end"
   ]
  },
  {
   "cell_type": "code",
   "execution_count": null,
   "metadata": {},
   "outputs": [],
   "source": [
    "initial_x   = [1, 1, 1];\n",
    "result      = descent_algo(initial_x);\n",
    "\n",
    "println(\"Result: \", result);"
   ]
  },
  {
   "cell_type": "code",
   "execution_count": null,
   "metadata": {},
   "outputs": [],
   "source": [
    "# Defining Rosenbrok function\n",
    "function ROSENBROK(n::Int64, x::Vector{Float64})\n",
    "    if n % 2 == 1\n",
    "        return -1;\n",
    "    end\n",
    "    value = 0;\n",
    "    for i = 1:Int(n/2)\n",
    "        value += (x[2i] - x[2i-1]^2 )^2 + ( x[2i-1] - 1 )^2\n",
    "    end\n",
    "\n",
    "    return value;\n",
    "end    "
   ]
  },
  {
   "cell_type": "code",
   "execution_count": null,
   "metadata": {},
   "outputs": [],
   "source": [
    "function GRAD_ROSENBROK_DERIVADA(x::Vector{Float64})\n",
    "    n       = length(x);\n",
    "    grad    = zeros(n);\n",
    "    for i = 1:Int(n/2)\n",
    "        grad[2*i-1] = -4*(x[2*i] - x[2*i-1]*x[2*i-1])*x[2*i-1] + 2*(x[2*i-1]-1);\n",
    "        grad[2*i]   = 2*(x[2*i] - x[2*i-1]*x[2*i-1]);\n",
    "    end\n",
    "\n",
    "    return grad\n",
    "end"
   ]
  },
  {
   "cell_type": "code",
   "execution_count": null,
   "metadata": {},
   "outputs": [],
   "source": [
    "# Making the function with Gradient Descent and Armijo's condition.\n",
    "# Implement the \"extended\" linear search.\n",
    "function ARMIJO(x::Vector{Float64}, M::Int64, a::Float64)\n",
    "    ϵ = 1e-6;\n",
    "    k = 0;\n",
    "    d = GRAD_ROSENBROK_DERIVADA(x); # Gradient Descent condition.\n",
    "    while ( (infty_norm(d) > ϵ) && (k < M) )\n",
    "        d       = - GRAD_ROSENBROK_DERIVADA(x);\n",
    "        t       = 1;\n",
    "        f_xtd   = ROSENBROK(2, x+t*d);\n",
    "        f_x     = ROSENBROK(2, x);\n",
    "        armijo  = -a * dot(d, d);\n",
    "        while( f_xtd > f_x + armijo*t && t > ϵ )\n",
    "            t   /= 2;\n",
    "        end\n",
    "        x       = x + t*d;\n",
    "        k       = k + 1;\n",
    "    end\n",
    "\n",
    "    return x;\n",
    "end"
   ]
  },
  {
   "cell_type": "code",
   "execution_count": null,
   "metadata": {},
   "outputs": [],
   "source": [
    "x = [2.0, 2.0];\n",
    "M = 100;\n",
    "a = 0.9;\n",
    "ok = ARMIJO(x, M, a)\n",
    "\n",
    "min = [1.0, 1.0]\n",
    "display(ROSENBROK(2, ok))\n",
    "display(ROSENBROK(2, min))"
   ]
  },
  {
   "cell_type": "code",
   "execution_count": null,
   "metadata": {},
   "outputs": [],
   "source": [
    "num_of_samples = Int(1000);\n",
    "xlim = zeros(Int, num_of_samples);\n",
    "ylim = zeros(Float64, num_of_samples);\n",
    "#display(x);\n",
    "#display(y);\n",
    "\n",
    "x       = [2.0, 2.0];\n",
    "x_aux   = [0.0, 0.0];\n",
    "a       = 0.9;\n",
    "\n",
    "for i = 1:num_of_samples\n",
    "    xlim[i]     = i;\n",
    "    x_aux       = ARMIJO(x, i, a);\n",
    "    value       = ROSENBROK(2, x_aux);\n",
    "    ylim[i]     = value\n",
    "end\n",
    "\n",
    "ylim\n",
    "display(plot(xlim, ylim));\n"
   ]
  },
  {
   "cell_type": "code",
   "execution_count": null,
   "metadata": {},
   "outputs": [],
   "source": [
    "function gradient_descent(α::Float64, σ::Float64, ϵ::Float64,\n",
    "                          M::Int64, x_k::Vector{Float64}, ∇::Function, f::Function)\n",
    "    k   = 0;\n",
    "    g_k = ∇(x_k);\n",
    "    μ   = infty_norm(g_k);\n",
    "\n",
    "    while( (μ >= ϵ) && (k <= M) )\n",
    "        λ_k = 1;\n",
    "        # Armijo's condition:\n",
    "        ∧   = α * dot(g_k, g_k);\n",
    "        while( f(x_k + λ_k * g_k) > f(x_k) + λ_k*∧ )\n",
    "            λ_k = σ * λ_k;\n",
    "        end\n",
    "\n",
    "        x_k = x_k + λ_k * g_k; \n",
    "        g_k = ∇(x_k);\n",
    "        μ   = infty_norm(g_k);\n",
    "        k   = k + 1;\n",
    "    end\n",
    "\n",
    "    return x;\n",
    "end"
   ]
  },
  {
   "cell_type": "code",
   "execution_count": null,
   "metadata": {},
   "outputs": [],
   "source": [
    "function quad(x::Vector{Float64})\n",
    "    sum = 0;\n",
    "    \n",
    "end"
   ]
  }
 ],
 "metadata": {
  "kernelspec": {
   "display_name": "Julia 1.9.2",
   "language": "julia",
   "name": "julia-1.9"
  },
  "language_info": {
   "file_extension": ".jl",
   "mimetype": "application/julia",
   "name": "julia",
   "version": "1.9.2"
  },
  "orig_nbformat": 4
 },
 "nbformat": 4,
 "nbformat_minor": 2
}

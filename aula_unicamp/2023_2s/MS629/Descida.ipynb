{
 "cells": [
  {
   "cell_type": "code",
   "execution_count": 45,
   "metadata": {},
   "outputs": [],
   "source": [
    "using Test\n",
    "using LinearAlgebra"
   ]
  },
  {
   "cell_type": "code",
   "execution_count": 46,
   "metadata": {},
   "outputs": [
    {
     "data": {
      "text/plain": [
       "f (generic function with 1 method)"
      ]
     },
     "metadata": {},
     "output_type": "display_data"
    }
   ],
   "source": [
    "# Defining function to minimize\n",
    "function f(x)\n",
    "    sum = 0;\n",
    "    for i = 1:length(x)\n",
    "        sum += x[i]\n",
    "    end\n",
    "\n",
    "    return sum;\n",
    "end"
   ]
  },
  {
   "cell_type": "code",
   "execution_count": 47,
   "metadata": {},
   "outputs": [
    {
     "data": {
      "text/plain": [
       "\u001b[32m\u001b[1mTest Passed\u001b[22m\u001b[39m"
      ]
     },
     "metadata": {},
     "output_type": "display_data"
    }
   ],
   "source": [
    "@test f([1,2,3,4,5,6]) == 21"
   ]
  },
  {
   "cell_type": "code",
   "execution_count": 48,
   "metadata": {},
   "outputs": [
    {
     "data": {
      "text/plain": [
       "grad_f (generic function with 1 method)"
      ]
     },
     "metadata": {},
     "output_type": "display_data"
    }
   ],
   "source": [
    "# Defining gradient of f.\n",
    "function grad_f(x)\n",
    "    grad = ones(length(x))\n",
    "    return grad  \n",
    "end"
   ]
  },
  {
   "cell_type": "code",
   "execution_count": 53,
   "metadata": {},
   "outputs": [
    {
     "data": {
      "text/plain": [
       "\u001b[32m\u001b[1mTest Passed\u001b[22m\u001b[39m"
      ]
     },
     "metadata": {},
     "output_type": "display_data"
    }
   ],
   "source": [
    "@test grad_f([1,1,1,1,1]) == [1, 1, 1, 1, 1]"
   ]
  },
  {
   "cell_type": "code",
   "execution_count": 54,
   "metadata": {},
   "outputs": [
    {
     "data": {
      "text/plain": [
       "infty_norm (generic function with 1 method)"
      ]
     },
     "metadata": {},
     "output_type": "display_data"
    }
   ],
   "source": [
    "# Making the infinity norm of a matrix.\n",
    "function infty_norm(x)\n",
    "    max = 0;\n",
    "    for i = 1:length(x)\n",
    "        if( max < abs(x[i]) )\n",
    "            max = abs(x[i]);\n",
    "        end\n",
    "    end\n",
    "\n",
    "    return max;\n",
    "end"
   ]
  },
  {
   "cell_type": "code",
   "execution_count": 55,
   "metadata": {},
   "outputs": [
    {
     "data": {
      "text/plain": [
       "\u001b[32m\u001b[1mTest Passed\u001b[22m\u001b[39m"
      ]
     },
     "metadata": {},
     "output_type": "display_data"
    }
   ],
   "source": [
    "# infty_norm([1000, 1, 2, 3, 4, 5, -1002]) == 1000\n",
    "@test infty_norm([1000, 1, 2, 3, 4, 5, -1002]) == 1002"
   ]
  },
  {
   "cell_type": "code",
   "execution_count": 60,
   "metadata": {},
   "outputs": [
    {
     "data": {
      "text/plain": [
       "descent_generate (generic function with 1 method)"
      ]
     },
     "metadata": {},
     "output_type": "display_data"
    }
   ],
   "source": [
    "# Choosing the descent directions.\n",
    "function descent_generate(grad)\n",
    "    d = randn(Float64, length(grad));\n",
    "    while( transpose(grad) ⋅ d  >= 0 )\n",
    "        d = randn(Float64, length(grad));\n",
    "    end\n",
    "\n",
    "    return d;\n",
    "end"
   ]
  },
  {
   "cell_type": "code",
   "execution_count": 62,
   "metadata": {},
   "outputs": [
    {
     "data": {
      "text/plain": [
       "\u001b[32m\u001b[1mTest Passed\u001b[22m\u001b[39m"
      ]
     },
     "metadata": {},
     "output_type": "display_data"
    }
   ],
   "source": [
    "grad = transpose(grad_f([1,2,3,4,5]))\n",
    "d = descent_generate(grad)\n",
    "@test grad ⋅ d < 0"
   ]
  },
  {
   "cell_type": "code",
   "execution_count": 23,
   "metadata": {},
   "outputs": [
    {
     "data": {
      "text/plain": [
       "stepper (generic function with 1 method)"
      ]
     },
     "metadata": {},
     "output_type": "display_data"
    }
   ],
   "source": [
    "# Making the function of linear search for finding the step\n",
    "function stepper(x, d)\n",
    "    λ = 1;\n",
    "    while( f(x+λ*d) >= f(x) )\n",
    "        λ /= 2;\n",
    "    end \n",
    "\n",
    "    return λ\n",
    "end"
   ]
  },
  {
   "cell_type": "code",
   "execution_count": 77,
   "metadata": {},
   "outputs": [
    {
     "data": {
      "text/plain": [
       "descent_algo (generic function with 1 method)"
      ]
     },
     "metadata": {},
     "output_type": "display_data"
    }
   ],
   "source": [
    "# Descent Algoritm\n",
    "function descent_algo(x)\n",
    "    ϵ           = 1e-6;\n",
    "    x_old       = copy(x);\n",
    "    max_iter    = 1000;\n",
    "    for i = 1:max_iter\n",
    "        d       = descent_generate(grad_f(x));\n",
    "        λ       = stepper(x, d);\n",
    "        x       = x + λ*d;\n",
    "        if( infty_norm(x-x_old) < ϵ )\n",
    "            break;\n",
    "        end\n",
    "        x_old = copy(x);\n",
    "    end\n",
    "\n",
    "    return x;\n",
    "end"
   ]
  },
  {
   "cell_type": "code",
   "execution_count": 79,
   "metadata": {},
   "outputs": [
    {
     "name": "stdout",
     "output_type": "stream",
     "text": [
      "Result: "
     ]
    },
    {
     "name": "stdout",
     "output_type": "stream",
     "text": [
      "[-461.1697476378618, -419.3513306825752, -446.4098939124299]\n"
     ]
    }
   ],
   "source": [
    "initial_x   = [1, 1, 1];\n",
    "result      = descent_algo(initial_x);\n",
    "\n",
    "println(\"Result: \", result);"
   ]
  },
  {
   "cell_type": "code",
   "execution_count": null,
   "metadata": {},
   "outputs": [],
   "source": []
  }
 ],
 "metadata": {
  "kernelspec": {
   "display_name": "Julia 1.9.2",
   "language": "julia",
   "name": "julia-1.9"
  },
  "language_info": {
   "file_extension": ".jl",
   "mimetype": "application/julia",
   "name": "julia",
   "version": "1.9.2"
  },
  "orig_nbformat": 4
 },
 "nbformat": 4,
 "nbformat_minor": 2
}

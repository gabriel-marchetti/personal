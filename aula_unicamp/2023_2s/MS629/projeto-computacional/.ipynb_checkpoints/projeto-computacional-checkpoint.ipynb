{
 "cells": [
  {
   "cell_type": "code",
   "execution_count": 1,
   "id": "6a948f6b-34b7-44a2-9fad-0968ab6bd4f1",
   "metadata": {},
   "outputs": [],
   "source": [
    "using LinearAlgebra\n",
    "using Test"
   ]
  },
  {
   "cell_type": "code",
   "execution_count": 2,
   "id": "4563b663-fb19-4308-9626-2bf4d127a8da",
   "metadata": {},
   "outputs": [],
   "source": [
    "# Defining parameters:\n",
    "α = 10e-4;\n",
    "β = 10e-3;\n",
    "γ = 10e-6;\n",
    "σ = 0.5;\n",
    "ρ = 10e-3;\n",
    "MAX = 1000;\n",
    "ϵ = 10e-6;"
   ]
  },
  {
   "cell_type": "code",
   "execution_count": 31,
   "id": "30c7499f",
   "metadata": {},
   "outputs": [
    {
     "data": {
      "text/plain": [
       "compare (generic function with 1 method)"
      ]
     },
     "execution_count": 31,
     "metadata": {},
     "output_type": "execute_result"
    }
   ],
   "source": [
    "function compare( A::Matrix{Float64}, B::Matrix{Float64} )\n",
    "    # True: if A equals B\n",
    "    # False: otherwise.\n",
    "    ϵ = 10e-6;\n",
    "    size_A = size(A);\n",
    "    size_B = size(B);\n",
    "    if( length(size_B) != length(size_A) )\n",
    "        return false\n",
    "    end\n",
    "    for i in size_A[1]\n",
    "        for j in size_A[2]\n",
    "            if( !(B[i,j] - ϵ ≤ A[i, j] ≤ B[i, j] + ϵ) )\n",
    "                return false\n",
    "            end\n",
    "        end\n",
    "    end\n",
    "    \n",
    "    return true\n",
    "end"
   ]
  },
  {
   "cell_type": "code",
   "execution_count": 36,
   "id": "fac162d0",
   "metadata": {},
   "outputs": [
    {
     "name": "stdout",
     "output_type": "stream",
     "text": [
      "\u001b[32m\u001b[1mTest Passed\u001b[22m\u001b[39m\n",
      "\u001b[32m\u001b[1mTest Passed\u001b[22m\u001b[39m\n"
     ]
    }
   ],
   "source": [
    "A = zeros(2,2)\n",
    "B = zeros(2,2)\n",
    "println(@test compare(A,B))\n",
    "A = ones(2,2)\n",
    "B = ones(2,2)\n",
    "println(@test compare(A, B))"
   ]
  },
  {
   "cell_type": "code",
   "execution_count": 3,
   "id": "b4942e53-620d-442a-9b77-55731c40db1f",
   "metadata": {},
   "outputs": [
    {
     "data": {
      "text/plain": [
       "quadratic (generic function with 1 method)"
      ]
     },
     "execution_count": 3,
     "metadata": {},
     "output_type": "execute_result"
    }
   ],
   "source": [
    "# Defining the quadratic formula:\n",
    "function quadratic( vector::Vector{Float64}, flag::Bool )\n",
    "    isempty(vector) && throw(ArgumentError(\"Input is empty!\"));\n",
    "    n = length(vector);\n",
    "    if( flag )\n",
    "        # It will store gradient info.http://localhost:8888/notebooks/projeto-computacional.ipynb\n",
    "        grad = zeros(Float64, (n, 1));\n",
    "    end\n",
    "    # It will store function value.\n",
    "    sum = 0.0;\n",
    "    \n",
    "    for i in eachindex(vector)\n",
    "        sum += i * vector[i] * vector[i];\n",
    "        if( flag )\n",
    "            grad[i] = 2 * i * vector[i];\n",
    "        end\n",
    "    end\n",
    "\n",
    "    if( flag )\n",
    "        return sum, grad;\n",
    "    else\n",
    "        return sum;\n",
    "    end\n",
    "end"
   ]
  },
  {
   "cell_type": "code",
   "execution_count": 4,
   "id": "bdcedf3c",
   "metadata": {},
   "outputs": [
    {
     "data": {
      "text/plain": [
       "quadratic_hessian (generic function with 1 method)"
      ]
     },
     "execution_count": 4,
     "metadata": {},
     "output_type": "execute_result"
    }
   ],
   "source": [
    "function quadratic_hessian( x::Vector{Float64} )\n",
    "    N = length(x);\n",
    "    Hessian = Diagonal( 2.0 * (1:N) )\n",
    "    return Hessian;\n",
    "end"
   ]
  },
  {
   "cell_type": "code",
   "execution_count": 5,
   "id": "b6df89f3",
   "metadata": {},
   "outputs": [
    {
     "name": "stdout",
     "output_type": "stream",
     "text": [
      "\u001b[32m\u001b[1mTest Passed\u001b[22m\u001b[39m\n",
      "\u001b[32m\u001b[1mTest Passed\u001b[22m\u001b[39m\n",
      "\u001b[32m\u001b[1mTest Passed\u001b[22m\u001b[39m\n",
      "\u001b[32m\u001b[1mTest Passed\u001b[22m\u001b[39m\n"
     ]
    }
   ],
   "source": [
    "println(@test quadratic_hessian([1.0; 2.0]) == [2.0 0.0; 0.0 4.0] )\n",
    "println(@test quadratic_hessian([1.0; 3.0]) == [2.0 0.0; 0.0 4.0] )\n",
    "println(@test quadratic_hessian([0.0; 2.0]) == [2.0 0.0; 0.0 4.0] )\n",
    "println(@test quadratic_hessian([1.0; 3.0; 4.0]) == [2.0 0.0 0.0; 0.0 4.0 0.0; 0.0 0.0 6.0])"
   ]
  },
  {
   "cell_type": "code",
   "execution_count": 6,
   "id": "10ff9091-f023-4044-b50f-8605257fe600",
   "metadata": {},
   "outputs": [
    {
     "name": "stdout",
     "output_type": "stream",
     "text": [
      "\u001b[32m\u001b[1mTest Passed\u001b[22m\u001b[39m\n",
      "\u001b[32m\u001b[1mTest Passed\u001b[22m\u001b[39m\n",
      "\u001b[32m\u001b[1mTest Passed\u001b[22m\u001b[39m\n",
      "\u001b[32m\u001b[1mTest Passed\u001b[22m\u001b[39m\n",
      "\u001b[32m\u001b[1mTest Passed\u001b[22m\u001b[39m\n"
     ]
    }
   ],
   "source": [
    "# Testing the quadratic formula:\n",
    "println(@test quadratic( [1.0; 2.0; 3.0], false ) == 36.0);\n",
    "println(@test quadratic( [1.0; 2.0; 3.0; 4.0], false ) == 100.0);\n",
    "println(@test quadratic( [1.0; 2.0; 3.0; 4.0; 5.0], false ) == 225.0);\n",
    "println(@test quadratic( [0.0; 0.0; 0.0; 0.0; 0.0], false ) == 0.0);\n",
    "println(@test  (2.5502 - ϵ <= quadratic( [0.99; 0.73; 0.41], false ) <= 2.5502 + ϵ ) );"
   ]
  },
  {
   "cell_type": "code",
   "execution_count": 7,
   "id": "493f94ea-8679-457f-9ead-c1cbec33c966",
   "metadata": {},
   "outputs": [
    {
     "data": {
      "text/plain": [
       "rosenbrok (generic function with 1 method)"
      ]
     },
     "execution_count": 7,
     "metadata": {},
     "output_type": "execute_result"
    }
   ],
   "source": [
    "# Defining the rosenbrok function and it's gradient.\n",
    "function rosenbrok( vector::Vector{Float64}, flag::Bool )\n",
    "    n = length(vector);\n",
    "    ( n % 2 == 1 ) && throw(ArgumentError(\"Input is not even.\"));\n",
    "    if( flag )\n",
    "        grad = zeros(Float64, (n, 1));        \n",
    "    end\n",
    "    \n",
    "    sum = 0.0;\n",
    "    n = n / 2;\n",
    "    n = convert(Int64, n);\n",
    "    for i = 1:n\n",
    "        xᵢ = vector[2*i - 1];\n",
    "        xₚ = vector[2*i];\n",
    "        aux1 = xₚ - xᵢ * xᵢ;\n",
    "        aux2 = xᵢ - 1;\n",
    "\n",
    "        if( flag )\n",
    "            grad[2*i - 1] = -40.0 * aux1 * xᵢ;\n",
    "            grad[2*i] = 20.0 * aux1;\n",
    "        end\n",
    "\n",
    "        sum = sum + 10 * aux1 * aux1 + aux2 * aux2;        \n",
    "    end\n",
    "    \n",
    "    if( flag )\n",
    "        return sum, grad;\n",
    "    else\n",
    "        return sum;\n",
    "    end\n",
    "end"
   ]
  },
  {
   "cell_type": "code",
   "execution_count": 8,
   "id": "7e229e7a",
   "metadata": {},
   "outputs": [
    {
     "data": {
      "text/plain": [
       "rosenbrok_hessian (generic function with 1 method)"
      ]
     },
     "execution_count": 8,
     "metadata": {},
     "output_type": "execute_result"
    }
   ],
   "source": [
    "function rosenbrok_hessian( x::Vector{Float64} )\n",
    "    N = length(x);\n",
    "    Hessian = zeros(Float64, N, N);\n",
    "    iter = convert(Int64, N / 2 );\n",
    "    for i = 1:iter\n",
    "        even = 2 ⋅ i;\n",
    "        odd = even - 1;\n",
    "        Hessian[odd, odd] = -40*x[even] + 120 ⋅ x[odd] ⋅ x[odd] + 2;\n",
    "        Hessian[even, even] = 20*x[even];\n",
    "        Hessian[even, odd] = Hessian[odd, even] = -40 ⋅ x[odd];\n",
    "    end\n",
    "    \n",
    "    return Hessian;\n",
    "end"
   ]
  },
  {
   "cell_type": "code",
   "execution_count": 9,
   "id": "5755c228",
   "metadata": {},
   "outputs": [
    {
     "name": "stdout",
     "output_type": "stream",
     "text": [
      "\u001b[32m\u001b[1mTest Passed\u001b[22m\u001b[39m\n"
     ]
    }
   ],
   "source": [
    "matrix = [42.0  -40.0  0.0  0.0;\n",
    "          -40.0  40.0  0.0  0.0;\n",
    "           0.0   0.0  922.0  -120.0;\n",
    "           0.0   0.0  -120.0  80.0]\n",
    "\n",
    "println(@test rosenbrok_hessian([1.0; 2.0; 3.0; 4.0]) == matrix)\n"
   ]
  },
  {
   "cell_type": "code",
   "execution_count": 10,
   "id": "26f576be-3cc0-4ee9-97df-48812817ba38",
   "metadata": {},
   "outputs": [
    {
     "name": "stdout",
     "output_type": "stream",
     "text": [
      "\u001b[32m\u001b[1mTest Passed\u001b[22m\u001b[39m\n"
     ]
    }
   ],
   "source": [
    "# testing the Rosenbrok function:\n",
    "println( @test rosenbrok([1.0,1.0,1.0,1.0], false ) == 0.0 )\n"
   ]
  },
  {
   "cell_type": "code",
   "execution_count": 11,
   "id": "c9f6eef3-6440-4386-9ace-8cf1dac3b010",
   "metadata": {},
   "outputs": [
    {
     "data": {
      "text/plain": [
       "styblinsky (generic function with 1 method)"
      ]
     },
     "execution_count": 11,
     "metadata": {},
     "output_type": "execute_result"
    }
   ],
   "source": [
    "# Defining the Styblinsky-Tang function\n",
    "function styblinsky( vector::Vector{Float64}, flag::Bool )\n",
    "    isempty(vector) && throw(ArgumentError(\"Vector is empty.\"));\n",
    "    n = length(vector);\n",
    "    if( flag )\n",
    "        grad = zeros(Float64, (n, 1));\n",
    "    end\n",
    "    sum = 0.0;\n",
    "    \n",
    "    for i in eachindex(vector)\n",
    "        xᵢ = vector[i];\n",
    "        sum = sum + xᵢ ^ 4 - 16 * xᵢ ^ 2 + 5 * xᵢ;\n",
    "\n",
    "        if( flag )\n",
    "            grad[i] = 4 * xᵢ ^ 3 - 32 * xᵢ + 5;\n",
    "        end\n",
    "    end\n",
    "\n",
    "    if( flag )\n",
    "        return sum, grad;\n",
    "    else\n",
    "        return sum;\n",
    "    end\n",
    "end"
   ]
  },
  {
   "cell_type": "code",
   "execution_count": 12,
   "id": "56661145",
   "metadata": {},
   "outputs": [
    {
     "data": {
      "text/plain": [
       "styblisnky_hessian (generic function with 1 method)"
      ]
     },
     "execution_count": 12,
     "metadata": {},
     "output_type": "execute_result"
    }
   ],
   "source": [
    "function styblisnky_hessian( x::Vector{Float64} )\n",
    "    N = length(x);\n",
    "    hessian = zeros(Float64, N, N);\n",
    "    for i in eachindex(x)\n",
    "        hessian[i, i] = 12 ⋅ x[i] ⋅ x[i] - 32;\n",
    "    end\n",
    "    \n",
    "    return hessian;\n",
    "end"
   ]
  },
  {
   "cell_type": "code",
   "execution_count": 13,
   "id": "b3d07465",
   "metadata": {},
   "outputs": [
    {
     "name": "stdout",
     "output_type": "stream",
     "text": [
      "\u001b[32m\u001b[1mTest Passed\u001b[22m\u001b[39m\n"
     ]
    }
   ],
   "source": [
    "println(@test styblisnky_hessian([1.0;2.0;3.0]) == [-20.0 0.0 0.0; 0.0 16.0 0.0; 0.0 0.0 76.0])"
   ]
  },
  {
   "cell_type": "code",
   "execution_count": 14,
   "id": "10bd7027-24fa-474f-894b-a1f621e4af3f",
   "metadata": {},
   "outputs": [
    {
     "name": "stdout",
     "output_type": "stream",
     "text": [
      "\u001b[32m\u001b[1mTest Passed\u001b[22m\u001b[39m\n"
     ]
    }
   ],
   "source": [
    "# testing the Styblinsky-Tang function:\n",
    "println(@test -78.322 * 2.0 - 10e-2 <= styblinsky( [-2.903534; -2.903534], false ) <= -78.322 * 2.0 + 10e-2 )"
   ]
  },
  {
   "cell_type": "code",
   "execution_count": 12,
   "id": "cbc5fcbc-c697-43e6-80a0-23d2b4832082",
   "metadata": {},
   "outputs": [
    {
     "data": {
      "text/plain": [
       "rastringin (generic function with 1 method)"
      ]
     },
     "execution_count": 12,
     "metadata": {},
     "output_type": "execute_result"
    }
   ],
   "source": [
    "# Defining the Rastrigin function:\n",
    "function rastringin( vector::Vector{Float64}, flag::Bool )\n",
    "    isempty(vector) && throw(ArgumentError(\"Vector is empty.\"));\n",
    "    n = length(vector);\n",
    "    if( flag )\n",
    "        grad = zeros(Float64, (n, 1));\n",
    "    end\n",
    "    sum = 0.0;\n",
    "\n",
    "    for i in eachindex(vector)\n",
    "        xᵢ = vector[i];\n",
    "        aux = 2 * π;\n",
    "        if( flag )\n",
    "            grad[i] = 2 * xᵢ + 10 * sin( aux * xᵢ ) * aux;\n",
    "        end\n",
    "\n",
    "        sum = sum + xᵢ * xᵢ - 10 * cos( aux * xᵢ );\n",
    "    end\n",
    "\n",
    "\n",
    "    if( flag )\n",
    "        return sum, grad;\n",
    "    else\n",
    "        return sum;\n",
    "    end\n",
    "end"
   ]
  },
  {
   "cell_type": "code",
   "execution_count": 15,
   "id": "877dc2da",
   "metadata": {},
   "outputs": [
    {
     "data": {
      "text/plain": [
       "rastring_hessian (generic function with 1 method)"
      ]
     },
     "execution_count": 15,
     "metadata": {},
     "output_type": "execute_result"
    }
   ],
   "source": [
    "function rastring_hessian( x::Vector{Float64} )\n",
    "    N = length(x);\n",
    "    hessian = zeros(Float64, N, N);\n",
    "    for i = 1:N\n",
    "        hessian[i,i] = 40 ⋅ π ^ 2 ⋅ cos( 2⋅π⋅x[i] ) + 2;\n",
    "    end\n",
    "    \n",
    "    return hessian;\n",
    "end"
   ]
  },
  {
   "cell_type": "code",
   "execution_count": 25,
   "id": "49c79401",
   "metadata": {},
   "outputs": [
    {
     "data": {
      "text/plain": [
       "3×3 Matrix{Float64}:\n",
       " 6.43929e-15  0.0          0.0\n",
       " 0.0          6.43929e-15  0.0\n",
       " 0.0          0.0          6.43929e-15"
      ]
     },
     "execution_count": 25,
     "metadata": {},
     "output_type": "execute_result"
    }
   ],
   "source": [
    "aux = 1/(2π)⋅acos(-2/(40⋅π⋅π))\n",
    "rastring_hessian([aux; aux; aux])"
   ]
  },
  {
   "cell_type": "code",
   "execution_count": 38,
   "id": "18acfe2d",
   "metadata": {},
   "outputs": [
    {
     "name": "stdout",
     "output_type": "stream",
     "text": [
      "\u001b[32m\u001b[1mTest Passed\u001b[22m\u001b[39m\n",
      "\u001b[32m\u001b[1mTest Passed\u001b[22m\u001b[39m\n"
     ]
    }
   ],
   "source": [
    "# Testing the rastring_hessian function\n",
    "aux = 1/(2π)⋅acos(-2/(40⋅π⋅π));\n",
    "A = zeros(2,2);\n",
    "B = rastring_hessian([aux; aux]);\n",
    "println(@test compare(A,B))\n",
    "A = zeros(3, 3);\n",
    "B = rastring_hessian([aux; aux; aux]);\n",
    "println(@test compare(A,B))"
   ]
  },
  {
   "cell_type": "code",
   "execution_count": 13,
   "id": "efa2762c-bd7f-47d4-ad2d-0938c7cd422d",
   "metadata": {},
   "outputs": [
    {
     "name": "stdout",
     "output_type": "stream",
     "text": [
      "\u001b[32m\u001b[1mTest Passed\u001b[22m\u001b[39m\n",
      "\u001b[32m\u001b[1mTest Passed\u001b[22m\u001b[39m\n"
     ]
    }
   ],
   "source": [
    "# Testing the rastringin function:\n",
    "println( @test rastringin([0.0; 0.0], false) == -20 )\n",
    "println( @test rastringin([0.0; 0.0; 0.0], false) == -30 )"
   ]
  },
  {
   "cell_type": "code",
   "execution_count": 48,
   "id": "f7ff2384-7373-4fcf-9aac-66a3e1816edd",
   "metadata": {},
   "outputs": [
    {
     "data": {
      "text/plain": [
       "gradient_method (generic function with 1 method)"
      ]
     },
     "execution_count": 48,
     "metadata": {},
     "output_type": "execute_result"
    }
   ],
   "source": [
    "function gradient_method( α::Float64, σ::Float64, ϵ::Float64, M::Int64, x₀::Vector{Float64}, \n",
    "         f::Function, display::Bool )\n",
    "    k = 0;\n",
    "    xₖ = x₀;\n",
    "    evaluated_function, evaluated_grad = f(x₀, true);  \n",
    "    # ERROR: opnorm is not the infty norm (corrected)\n",
    "    while( norm(evaluated_grad, Inf) >= ϵ && k < M )\n",
    "        descent_direction = -1 ⋅ evaluated_grad;\n",
    "        tₖ = 1;\n",
    "        # Don't know if norm is actually working.... ERROR. (corrected)\n",
    "        armijo = - α * norm( evaluated_grad, 2 )\n",
    "        while( f( xₖ + tₖ * descent_direction, false ) > evaluated_function + tₖ * armijo )\n",
    "            tₖ = tₖ * σ;\n",
    "        end\n",
    "        \n",
    "        xₖ = xₖ + tₖ * descent_direction;\n",
    "        evaluated_function, evaluated_grad = f(xₖ, true);\n",
    "        k  = k + 1;\n",
    "        if( display )\n",
    "            println(\"Iter: $k\");\n",
    "            println(\"Value of function: $evaluated_function\");\n",
    "            println(\"Curret point:\");\n",
    "            display(xₖ);\n",
    "            println(\"Curret Gradient: \");\n",
    "            display(evaluated_grad);\n",
    "        end\n",
    "    end\n",
    "    \n",
    "    return xₖ;\n",
    "end"
   ]
  },
  {
   "cell_type": "code",
   "execution_count": 63,
   "id": "bf1153a0-a252-42b2-b834-45d20ad41ab5",
   "metadata": {},
   "outputs": [
    {
     "data": {
      "text/plain": [
       "newton_method (generic function with 1 method)"
      ]
     },
     "execution_count": 63,
     "metadata": {},
     "output_type": "execute_result"
    }
   ],
   "source": [
    "function newton_method( α::Float64, \n",
    "        β::Float64, \n",
    "        γ::Float64, \n",
    "        σ::Float64, \n",
    "        ρ::Float64, \n",
    "        ϵ::Float64, \n",
    "        M::Int64, \n",
    "        x::Vector{Float64}, \n",
    "        f::Function, \n",
    "        hessian_function::Function, \n",
    "        display::Bool\n",
    "    )\n",
    "    N = length(x);\n",
    "    eval_x, eval_grad = f(x, true);\n",
    "    xₖ = x;\n",
    "    k = 0;\n",
    "    while( norm(eval_grad, Inf) ≥ ϵ && k < M )\n",
    "        μ = 0;\n",
    "        flag_aux = true;\n",
    "        # Try to solve the descent direction system for newton's method:\n",
    "        hessian = hessian_function( xₖ );\n",
    "        norm_grad = norm( eval_grad, 2);\n",
    "        while( flag_aux )\n",
    "            matrix = hessian + μ ⋅ I(N);\n",
    "            try\n",
    "                dₖ = linalg.solve( matrix, -1 ⋅ eval_grad );\n",
    "                aux = dot( eval_grad, dₖ ) / ( norm_grad ⋅ norm( dₖ, 2 ) );\n",
    "                if( aux ≤ -γ )\n",
    "                    flag_aux = true;\n",
    "                else\n",
    "                    μ = max( 2⋅μ, ρ );\n",
    "                end\n",
    "            catch ex\n",
    "                μ = max( 2⋅μ, ρ );\n",
    "            end\n",
    "        end\n",
    "        \n",
    "        norm_desc = norm(dₖ,2);\n",
    "        if( norm_desc < β⋅norm_grad )\n",
    "             constante = β ⋅ norm_grad / norm_desc;\n",
    "             dₖ = constante ⋅ dₖ;\n",
    "        end\n",
    "        \n",
    "        tₖ = 1;\n",
    "        function_value = f(xₖ, false);\n",
    "        armijo_condition = α ⋅ dot( eval_grad, dₖ );\n",
    "        while( f(xₖ + tₖ⋅dₖ) > function_value + tₖ ⋅ armijo_condition )\n",
    "             tₖ = σ ⋅ tₖ;\n",
    "        end\n",
    "        xₖ = xₖ + tₖ ⋅ dₖ;\n",
    "        k  = k  + 1;\n",
    "        eval_x, eval_grad = f(x, true);\n",
    "        if( display )\n",
    "            println(\"Iter: $k\");\n",
    "            println(\"Value of function: $eval_x\");\n",
    "            println(\"Curret point:\");\n",
    "            display(xₖ);\n",
    "            println(\"Curret Gradient: \");\n",
    "            display(eval_grad);\n",
    "        end\n",
    "    end\n",
    "    \n",
    "    return xₖ;\n",
    "end"
   ]
  },
  {
   "cell_type": "code",
   "execution_count": null,
   "id": "46311d94",
   "metadata": {},
   "outputs": [],
   "source": [
    "function secant_method( α::Float64, β::Float64, γ::Float64,\n",
    "    σ::Float64, ϵ::Float64, M::Int64, H::Matrix{Float64},\n",
    "    xₒ::Vector{Float64}, f::function, which::Int64 ,display::Bool\n",
    "    )\n",
    "    # which = {0, 1}\n",
    "    # if which is 0: CP1 selected\n",
    "    N = length(x₀);\n",
    "    k = 0;\n",
    "    eval_function, eval_grad = f(xₒ, true);\n",
    "    xₖ = x₀;\n",
    "    Hₖ = H;\n",
    "    while( norm( eval_grad, Inf ) > ϵ && k < M )\n",
    "        descent_direction = linalg.solve(Hₖ, eval_grad);\n",
    "        descent_direction = -1 ⋅ descent_direction;\n",
    "        norm_desc = norm( dₖ, 2 );\n",
    "        norm_grad = norm( eval_grad, 2 );\n",
    "        if( dot(eval_grad, dₖ) > -γ⋅norm_desc⋅norm_grad )\n",
    "            dₖ = -eval_grad;\n",
    "            norm_desc = norm_grad;\n",
    "            Hₖ = I(x₀)\n",
    "        end\n",
    "        if( norm_desc < β ⋅ norm_grad )\n",
    "            dₖ = β ⋅ ( norm_grad / norm_desc ) ⋅ dₖ;\n",
    "        end\n",
    "        \n",
    "        \n",
    "    end\n",
    "end"
   ]
  }
 ],
 "metadata": {
  "kernelspec": {
   "display_name": "Julia 1.9.2",
   "language": "julia",
   "name": "julia-1.9"
  },
  "language_info": {
   "file_extension": ".jl",
   "mimetype": "application/julia",
   "name": "julia",
   "version": "1.9.2"
  }
 },
 "nbformat": 4,
 "nbformat_minor": 5
}

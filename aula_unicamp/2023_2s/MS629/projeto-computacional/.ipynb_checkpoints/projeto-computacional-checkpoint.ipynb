{
 "cells": [
  {
   "cell_type": "code",
   "execution_count": 51,
   "id": "6a948f6b-34b7-44a2-9fad-0968ab6bd4f1",
   "metadata": {},
   "outputs": [],
   "source": [
    "using LinearAlgebra\n",
    "using Test"
   ]
  },
  {
   "cell_type": "code",
   "execution_count": 52,
   "id": "4563b663-fb19-4308-9626-2bf4d127a8da",
   "metadata": {},
   "outputs": [],
   "source": [
    "# Defining parameters:\n",
    "α = 10e-4;\n",
    "β = 10e-3;\n",
    "γ = 10e-6;\n",
    "σ = 0.5;\n",
    "ρ = 10e-3;\n",
    "MAX = 1000;\n",
    "ϵ = 10e-6;"
   ]
  },
  {
   "cell_type": "code",
   "execution_count": 53,
   "id": "b4942e53-620d-442a-9b77-55731c40db1f",
   "metadata": {},
   "outputs": [
    {
     "data": {
      "text/plain": [
       "quadratic (generic function with 2 methods)"
      ]
     },
     "execution_count": 53,
     "metadata": {},
     "output_type": "execute_result"
    }
   ],
   "source": [
    "# Defining the quadratic formula:\n",
    "function quadratic( vector::Vector{Float64}, flag::Bool )\n",
    "    isempty(vector) && throw(ArgumentError(\"Input is empty!\"));\n",
    "    n = length(vector);\n",
    "    if( flag )\n",
    "        # It will store gradient info.\n",
    "        grad = zeros(Float64, (n, 1));\n",
    "    end\n",
    "    # It will store function value.\n",
    "    sum = 0.0;\n",
    "    \n",
    "    for i in eachindex(vector)\n",
    "        sum += i * vector[i] * vector[i];\n",
    "        if( flag )\n",
    "            grad[i] = i;\n",
    "        end\n",
    "    end\n",
    "\n",
    "    if( flag )\n",
    "        return sum, grad;\n",
    "    else\n",
    "        return sum;\n",
    "    end\n",
    "end"
   ]
  },
  {
   "cell_type": "code",
   "execution_count": 54,
   "id": "10ff9091-f023-4044-b50f-8605257fe600",
   "metadata": {},
   "outputs": [
    {
     "name": "stdout",
     "output_type": "stream",
     "text": [
      "\u001b[32m\u001b[1mTest Passed\u001b[22m\u001b[39m\n",
      "\u001b[32m\u001b[1mTest Passed\u001b[22m\u001b[39m\n",
      "\u001b[32m\u001b[1mTest Passed\u001b[22m\u001b[39m\n",
      "\u001b[32m\u001b[1mTest Passed\u001b[22m\u001b[39m\n",
      "\u001b[32m\u001b[1mTest Passed\u001b[22m\u001b[39m\n"
     ]
    }
   ],
   "source": [
    "# Testing the quadratic formula:\n",
    "println(@test quadratic( [1.0; 2.0; 3.0], false ) == 36.0);\n",
    "println(@test quadratic( [1.0; 2.0; 3.0; 4.0], false ) == 100.0);\n",
    "println(@test quadratic( [1.0; 2.0; 3.0; 4.0; 5.0], false ) == 225.0);\n",
    "println(@test quadratic( [0.0; 0.0; 0.0; 0.0; 0.0], false ) == 0.0);\n",
    "println(@test  (2.5502 - ϵ <= quadratic( [0.99; 0.73; 0.41], false ) <= 2.5502 + ϵ ) );"
   ]
  },
  {
   "cell_type": "code",
   "execution_count": 55,
   "id": "493f94ea-8679-457f-9ead-c1cbec33c966",
   "metadata": {},
   "outputs": [
    {
     "data": {
      "text/plain": [
       "rosenbrok (generic function with 2 methods)"
      ]
     },
     "execution_count": 55,
     "metadata": {},
     "output_type": "execute_result"
    }
   ],
   "source": [
    "# Defining the rosenbrok function and it's gradient.\n",
    "function rosenbrok( vector::Vector{Float64}, flag::Bool )\n",
    "    n = length(vector);\n",
    "    ( n % 2 == 1 ) && throw(ArgumentError(\"Input is not even.\"));\n",
    "    if( flag )\n",
    "        grad = zeros(Float64, (n, 1));        \n",
    "    end\n",
    "    \n",
    "    sum = 0.0;\n",
    "    n = n / 2;\n",
    "    n = convert(Int64, n);\n",
    "    for i = 1:n\n",
    "        xᵢ = vector[2*i - 1];\n",
    "        xₚ = vector[2*i];\n",
    "        aux1 = xₚ - xᵢ * xᵢ;\n",
    "        aux2 = xᵢ - 1;\n",
    "\n",
    "        if( flag )\n",
    "            grad[2*i - 1] = -40.0 * aux1 * xᵢ;\n",
    "            grad[2*i] = 20.0 * aux1;\n",
    "        end\n",
    "\n",
    "        sum = sum + 10 * aux1 * aux1 + aux2 * aux2;        \n",
    "    end\n",
    "    \n",
    "    if( flag )\n",
    "        return sum, grad;\n",
    "    else\n",
    "        return sum;\n",
    "    end\n",
    "end"
   ]
  },
  {
   "cell_type": "code",
   "execution_count": 56,
   "id": "26f576be-3cc0-4ee9-97df-48812817ba38",
   "metadata": {},
   "outputs": [
    {
     "name": "stdout",
     "output_type": "stream",
     "text": [
      "\u001b[32m\u001b[1mTest Passed\u001b[22m\u001b[39m\n"
     ]
    }
   ],
   "source": [
    "# testing the Rosenbrok function:\n",
    "println( @test rosenbrok([1.0,1.0,1.0,1.0], false ) == 0.0 )\n"
   ]
  },
  {
   "cell_type": "code",
   "execution_count": 57,
   "id": "c9f6eef3-6440-4386-9ace-8cf1dac3b010",
   "metadata": {},
   "outputs": [
    {
     "data": {
      "text/plain": [
       "styblinsky (generic function with 1 method)"
      ]
     },
     "execution_count": 57,
     "metadata": {},
     "output_type": "execute_result"
    }
   ],
   "source": [
    "# Defining the Styblinsky-Tang function\n",
    "function styblinsky( vector::Vector{Float64}, flag::Bool )\n",
    "    isempty(vector) && throw(ArgumentError(\"Vector is empty.\"));\n",
    "    n = length(vector);\n",
    "    if( flag )\n",
    "        grad = zeros(Float64, (n, 1));\n",
    "    end\n",
    "    sum = 0.0;\n",
    "    \n",
    "    for i in eachindex(vector)\n",
    "        xᵢ = vector[i];\n",
    "        sum = sum + xᵢ ^ 4 - 16 * xᵢ ^ 2 + 5 * xᵢ;\n",
    "\n",
    "        if( flag )\n",
    "            grad[i] = 4 * xᵢ ^ 3 - 32 * xᵢ + 5;\n",
    "        end\n",
    "    end\n",
    "\n",
    "    if( flag )\n",
    "        return sum, grad;\n",
    "    else\n",
    "        return sum;\n",
    "    end\n",
    "end"
   ]
  },
  {
   "cell_type": "code",
   "execution_count": 58,
   "id": "10bd7027-24fa-474f-894b-a1f621e4af3f",
   "metadata": {},
   "outputs": [
    {
     "name": "stdout",
     "output_type": "stream",
     "text": [
      "\u001b[32m\u001b[1mTest Passed\u001b[22m\u001b[39m\n"
     ]
    }
   ],
   "source": [
    "# testing the Styblinsky-Tang function:\n",
    "println(@test -78.322 * 2.0 - 10e-2 <= styblinsky( [-2.903534; -2.903534], false ) <= -78.322 * 2.0 + 10e-2 )"
   ]
  },
  {
   "cell_type": "code",
   "execution_count": 59,
   "id": "cbc5fcbc-c697-43e6-80a0-23d2b4832082",
   "metadata": {},
   "outputs": [
    {
     "data": {
      "text/plain": [
       "rastringin (generic function with 1 method)"
      ]
     },
     "execution_count": 59,
     "metadata": {},
     "output_type": "execute_result"
    }
   ],
   "source": [
    "# Defining the Rastrigin function:\n",
    "function rastringin( vector::Vector{Float64}, flag::Bool )\n",
    "    isempty(vector) && throw(ArgumentError(\"Vector is empty.\"));\n",
    "    n = length(vector);\n",
    "    if( flag )\n",
    "        grad = zeros(Float64, (n, 1));\n",
    "    end\n",
    "    sum = 0.0;\n",
    "\n",
    "    for i in eachindex(vector)\n",
    "        xᵢ = vector[i];\n",
    "        aux = 2 * π;\n",
    "        if( flag )\n",
    "            grad[i] = 2 * xᵢ + 10 * sin( aux * xᵢ ) * aux;\n",
    "        end\n",
    "\n",
    "        sum = sum + xᵢ * xᵢ - 10 * cos( aux * xᵢ );\n",
    "    end\n",
    "\n",
    "\n",
    "    if( flag )\n",
    "        return sum, grad;\n",
    "    else\n",
    "        return sum;\n",
    "    end\n",
    "end"
   ]
  },
  {
   "cell_type": "code",
   "execution_count": 60,
   "id": "efa2762c-bd7f-47d4-ad2d-0938c7cd422d",
   "metadata": {},
   "outputs": [
    {
     "name": "stdout",
     "output_type": "stream",
     "text": [
      "\u001b[32m\u001b[1mTest Passed\u001b[22m\u001b[39m\n",
      "\u001b[32m\u001b[1mTest Passed\u001b[22m\u001b[39m\n"
     ]
    }
   ],
   "source": [
    "# Testing the rastringin function:\n",
    "println( @test rastringin([0.0; 0.0], false) == -20 )\n",
    "println( @test rastringin([0.0; 0.0; 0.0], false) == -30 )"
   ]
  },
  {
   "cell_type": "code",
   "execution_count": 63,
   "id": "f7ff2384-7373-4fcf-9aac-66a3e1816edd",
   "metadata": {},
   "outputs": [
    {
     "data": {
      "text/plain": [
       "gradient_method (generic function with 1 method)"
      ]
     },
     "execution_count": 63,
     "metadata": {},
     "output_type": "execute_result"
    }
   ],
   "source": [
    "function gradient_method( α::Float64, σ::Float64, ϵ::Float64, M::Int64, x₀::Vector{Float64}, \n",
    "         f::Function, display::Bool )\n",
    "    k = 0;\n",
    "    xₖ = x₀;\n",
    "    evaluated_function, evaluated_grad = f(x₀, true);  \n",
    "    while( opnorm(evaluated_grad) >= ϵ && k < M )\n",
    "        descent_direction = -evaluated_grad;\n",
    "        tₖ = 1;\n",
    "        armijo = - α * norm( evaluated_grad, p = 2 )\n",
    "        while( f( xₖ + tₖ * descent_direction, false ) > evalutead_function + tₖ * armijo )\n",
    "            tₖ = tₖ * σ;\n",
    "        end\n",
    "        \n",
    "        xₖ = xₖ + t * descent_direction;\n",
    "        evaluated_function, evaluated_grad = f(xₖ, true);\n",
    "        k  = k + 1;\n",
    "        if( display )\n",
    "            println(\"Iter: $k\");\n",
    "            println(\"Value of function: $evaluated_function\");\n",
    "            println(\"Curret point:\");\n",
    "            display(xₖ);\n",
    "            println(\"Curret Gradient: \");\n",
    "            display(evaluated_grad);\n",
    "        end\n",
    "    end\n",
    "end"
   ]
  },
  {
   "cell_type": "code",
   "execution_count": null,
   "id": "bf1153a0-a252-42b2-b834-45d20ad41ab5",
   "metadata": {},
   "outputs": [],
   "source": []
  }
 ],
 "metadata": {
  "kernelspec": {
   "display_name": "Julia 1.9.3",
   "language": "julia",
   "name": "julia-1.9"
  },
  "language_info": {
   "file_extension": ".jl",
   "mimetype": "application/julia",
   "name": "julia",
   "version": "1.9.3"
  }
 },
 "nbformat": 4,
 "nbformat_minor": 5
}

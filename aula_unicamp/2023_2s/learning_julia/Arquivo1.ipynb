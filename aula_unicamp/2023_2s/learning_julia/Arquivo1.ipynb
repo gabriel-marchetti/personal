{
 "cells": [
  {
   "cell_type": "code",
   "execution_count": 9,
   "id": "f1401e26-a5b5-4e2c-a8e1-2cfbc8b4564a",
   "metadata": {},
   "outputs": [
    {
     "data": {
      "text/plain": [
       "0.49999999999999994"
      ]
     },
     "execution_count": 9,
     "metadata": {},
     "output_type": "execute_result"
    }
   ],
   "source": []
  },
  {
   "cell_type": "code",
   "execution_count": null,
   "id": "714bd799-5a17-4e55-aba0-6353b49ac066",
   "metadata": {},
   "outputs": [],
   "source": []
  }
 ],
 "metadata": {
  "kernelspec": {
   "display_name": "Julia 1.9.3",
   "language": "julia",
   "name": "julia-1.9"
  },
  "language_info": {
   "file_extension": ".jl",
   "mimetype": "application/julia",
   "name": "julia",
   "version": "1.9.3"
  }
 },
 "nbformat": 4,
 "nbformat_minor": 5
}
